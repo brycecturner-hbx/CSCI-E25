{
 "cells": [
  {
   "cell_type": "markdown",
   "id": "c3dc0d52",
   "metadata": {},
   "source": [
    "## Examples of Eigendecomposition\n",
    "\n",
    "This notebook contains some simple examples of eigendecomposition. \n",
    "\n",
    "### Example for simple 2x2 matrix"
   ]
  },
  {
   "cell_type": "code",
   "execution_count": 1,
   "id": "d2bb548f",
   "metadata": {},
   "outputs": [
    {
     "data": {
      "text/plain": [
       "array([[1, 3],\n",
       "       [3, 1]])"
      ]
     },
     "execution_count": 1,
     "metadata": {},
     "output_type": "execute_result"
    }
   ],
   "source": [
    "import numpy as np\n",
    "import numpy.random as nr\n",
    "import matplotlib.pyplot as plt\n",
    "%matplotlib inline\n",
    "\n",
    "A = np.array([[1,3], [3, 1]])\n",
    "A"
   ]
  },
  {
   "cell_type": "code",
   "execution_count": 2,
   "id": "3ef3324a",
   "metadata": {},
   "outputs": [
    {
     "name": "stdout",
     "output_type": "stream",
     "text": [
      "[[ 4.  0.]\n",
      " [ 0. -2.]]\n",
      "[[ 0.70710678 -0.70710678]\n",
      " [ 0.70710678  0.70710678]]\n"
     ]
    }
   ],
   "source": [
    "eigs, Q = np.linalg.eig(A)\n",
    "print(np.diag(eigs))\n",
    "print(Q)"
   ]
  },
  {
   "cell_type": "code",
   "execution_count": 3,
   "id": "a3b8bd96",
   "metadata": {},
   "outputs": [
    {
     "data": {
      "text/plain": [
       "array([[1., 3.],\n",
       "       [3., 1.]])"
      ]
     },
     "execution_count": 3,
     "metadata": {},
     "output_type": "execute_result"
    }
   ],
   "source": [
    "# Reconstruct the original matrix\n",
    "np.dot(Q, np.dot(np.diag(eigs), np.transpose(Q)))"
   ]
  },
  {
   "cell_type": "code",
   "execution_count": 4,
   "id": "698262e4",
   "metadata": {},
   "outputs": [
    {
     "data": {
      "text/plain": [
       "array([1., 1.])"
      ]
     },
     "execution_count": 4,
     "metadata": {},
     "output_type": "execute_result"
    }
   ],
   "source": [
    "## Q is unitary\n",
    "np.linalg.norm(Q, axis=0)"
   ]
  },
  {
   "cell_type": "code",
   "execution_count": 5,
   "id": "5f8c6da9",
   "metadata": {},
   "outputs": [
    {
     "data": {
      "text/plain": [
       "array([1., 1.])"
      ]
     },
     "execution_count": 5,
     "metadata": {},
     "output_type": "execute_result"
    }
   ],
   "source": [
    "# Q is unitary\n",
    "np.linalg.norm(Q, axis=1)"
   ]
  },
  {
   "cell_type": "code",
   "execution_count": 6,
   "id": "25ba1204",
   "metadata": {},
   "outputs": [
    {
     "data": {
      "text/plain": [
       "0.0"
      ]
     },
     "execution_count": 6,
     "metadata": {},
     "output_type": "execute_result"
    }
   ],
   "source": [
    "# Eigenvectors are orthogonal\n",
    "np.dot(Q[0,:],Q[1,:])"
   ]
  },
  {
   "cell_type": "code",
   "execution_count": 7,
   "id": "5d1cdad7",
   "metadata": {},
   "outputs": [
    {
     "data": {
      "text/plain": [
       "0.0"
      ]
     },
     "execution_count": 7,
     "metadata": {},
     "output_type": "execute_result"
    }
   ],
   "source": [
    "# Eigenvectors are orthogonal\n",
    "np.dot(Q[:,0],Q[:,1])"
   ]
  },
  {
   "cell_type": "code",
   "execution_count": 8,
   "id": "912867dc",
   "metadata": {},
   "outputs": [
    {
     "name": "stdout",
     "output_type": "stream",
     "text": [
      "[[ 0.70710678  0.70710678]\n",
      " [-0.70710678  0.70710678]]\n",
      "[[1.00000000e+00 1.11022302e-16]\n",
      " [0.00000000e+00 1.00000000e+00]]\n"
     ]
    }
   ],
   "source": [
    "Q_inv = np.linalg.inv(Q)\n",
    "print(Q_inv)\n",
    "print(np.dot(Q, Q_inv))"
   ]
  },
  {
   "cell_type": "code",
   "execution_count": 9,
   "id": "5db19ffb",
   "metadata": {},
   "outputs": [
    {
     "data": {
      "text/plain": [
       "array([[1., 0.],\n",
       "       [0., 1.]])"
      ]
     },
     "execution_count": 9,
     "metadata": {},
     "output_type": "execute_result"
    }
   ],
   "source": [
    "# For real Q transpose = inverse  \n",
    "np.dot(Q, np.transpose(Q))"
   ]
  },
  {
   "cell_type": "code",
   "execution_count": 10,
   "id": "2a76d81e",
   "metadata": {},
   "outputs": [
    {
     "data": {
      "text/plain": [
       "1.999999999999999"
      ]
     },
     "execution_count": 10,
     "metadata": {},
     "output_type": "execute_result"
    }
   ],
   "source": [
    "Cond_num = abs(eigs[0]/eigs[1])\n",
    "Cond_num"
   ]
  },
  {
   "cell_type": "markdown",
   "id": "94791202",
   "metadata": {},
   "source": [
    "## Finding an inverse with eigenvalues  "
   ]
  },
  {
   "cell_type": "code",
   "execution_count": 11,
   "id": "b1d7707d",
   "metadata": {},
   "outputs": [
    {
     "data": {
      "text/plain": [
       "array([[ 0.25,  0.  ],\n",
       "       [ 0.  , -0.5 ]])"
      ]
     },
     "execution_count": 11,
     "metadata": {},
     "output_type": "execute_result"
    }
   ],
   "source": [
    "inverse_eigs = np.diag(1.0/eigs)\n",
    "inverse_eigs"
   ]
  },
  {
   "cell_type": "code",
   "execution_count": 12,
   "id": "2aaffef7",
   "metadata": {},
   "outputs": [
    {
     "data": {
      "text/plain": [
       "array([[-0.125,  0.375],\n",
       "       [ 0.375, -0.125]])"
      ]
     },
     "execution_count": 12,
     "metadata": {},
     "output_type": "execute_result"
    }
   ],
   "source": [
    "A_inv = np.dot(Q, np.dot(inverse_eigs, np.transpose(Q)))\n",
    "A_inv"
   ]
  },
  {
   "cell_type": "code",
   "execution_count": 13,
   "id": "a0921d91",
   "metadata": {},
   "outputs": [
    {
     "data": {
      "text/plain": [
       "array([[1.00000000e+00, 1.11022302e-16],\n",
       "       [4.44089210e-16, 1.00000000e+00]])"
      ]
     },
     "execution_count": 13,
     "metadata": {},
     "output_type": "execute_result"
    }
   ],
   "source": [
    "# Verify the result\n",
    "np.dot(A_inv, A)"
   ]
  },
  {
   "cell_type": "markdown",
   "id": "bc01105b",
   "metadata": {},
   "source": [
    "### Eigenvalues and Rank"
   ]
  },
  {
   "cell_type": "code",
   "execution_count": 14,
   "id": "d5cdfcaa",
   "metadata": {},
   "outputs": [
    {
     "name": "stdout",
     "output_type": "stream",
     "text": [
      "[[ 3 -3  6]\n",
      " [ 2 -2  4]\n",
      " [ 1 -1  2]]\n"
     ]
    }
   ],
   "source": [
    "B = np.array([[3,-3,6],\n",
    "            [2,-2,4],\n",
    "            [1, -1, 2]])\n",
    "print(B)"
   ]
  },
  {
   "cell_type": "code",
   "execution_count": 15,
   "id": "aa32c6e8",
   "metadata": {},
   "outputs": [
    {
     "name": "stdout",
     "output_type": "stream",
     "text": [
      "[ 3.00000000e+00  5.23364153e-16 -6.00567308e-17]\n",
      "[[ 8.01783726e-01  1.03168406e-16 -8.26172899e-01]\n",
      " [ 5.34522484e-01 -8.94427191e-01  2.15213587e-01]\n",
      " [ 2.67261242e-01 -4.47213595e-01  5.20693243e-01]]\n"
     ]
    }
   ],
   "source": [
    "B_eigs, B_Q = np.linalg.eig(B)\n",
    "print(B_eigs)\n",
    "print(B_Q)"
   ]
  },
  {
   "cell_type": "code",
   "execution_count": 16,
   "id": "56caa686",
   "metadata": {},
   "outputs": [
    {
     "data": {
      "text/plain": [
       "4.995276899149314e+16"
      ]
     },
     "execution_count": 16,
     "metadata": {},
     "output_type": "execute_result"
    }
   ],
   "source": [
    "Cond_num = abs(B_eigs[0]/B_eigs[2])\n",
    "Cond_num"
   ]
  },
  {
   "cell_type": "markdown",
   "id": "07fd90da",
   "metadata": {},
   "source": [
    "### Example with Data"
   ]
  },
  {
   "cell_type": "code",
   "execution_count": 17,
   "id": "072b986a",
   "metadata": {},
   "outputs": [
    {
     "data": {
      "text/plain": [
       "Text(0.5, 1.0, 'Sample data')"
      ]
     },
     "execution_count": 17,
     "metadata": {},
     "output_type": "execute_result"
    },
    {
     "data": {
      "image/png": "[encoded data removed]",
      "text/plain": [
       "<Figure size 640x480 with 1 Axes>"
      ]
     },
     "metadata": {},
     "output_type": "display_data"
    }
   ],
   "source": [
    "nr.seed(124)\n",
    "cov = np.array([[1.0, 0.6], [0.6, 1.0]])\n",
    "mean = np.array([0.0, 0.0])\n",
    "\n",
    "sample = nr.multivariate_normal(mean, cov, 100)\n",
    "\n",
    "plt.scatter(sample[:,0], sample[:,1])\n",
    "plt.xlabel('Dimension 1')\n",
    "plt.ylabel('Dimension 2')\n",
    "plt.title('Sample data')"
   ]
  },
  {
   "cell_type": "code",
   "execution_count": 18,
   "id": "679e1b4e",
   "metadata": {},
   "outputs": [
    {
     "data": {
      "text/plain": [
       "array([[ 81.00983399,  65.72792108],\n",
       "       [ 65.72792108, 116.62580573]])"
      ]
     },
     "execution_count": 18,
     "metadata": {},
     "output_type": "execute_result"
    }
   ],
   "source": [
    "cov_sample = np.matmul(np.transpose(sample), sample)\n",
    "cov_sample"
   ]
  },
  {
   "cell_type": "code",
   "execution_count": 19,
   "id": "342a458e",
   "metadata": {},
   "outputs": [
    {
     "name": "stdout",
     "output_type": "stream",
     "text": [
      "[ 30.72021366 166.91542606]\n",
      "[[-0.79419984 -0.60765665]\n",
      " [ 0.60765665 -0.79419984]]\n"
     ]
    }
   ],
   "source": [
    "sample_eigs, sample_Q = np.linalg.eig(cov_sample)\n",
    "print(sample_eigs)\n",
    "print(sample_Q)"
   ]
  },
  {
   "cell_type": "code",
   "execution_count": 20,
   "id": "a1fed317",
   "metadata": {},
   "outputs": [
    {
     "name": "stdout",
     "output_type": "stream",
     "text": [
      "Condition number = 5.433407068843176\n"
     ]
    }
   ],
   "source": [
    "print('Condition number = ' + str(np.max(sample_eigs)/np.min(sample_eigs)))"
   ]
  },
  {
   "cell_type": "code",
   "execution_count": 21,
   "id": "2c99563d",
   "metadata": {},
   "outputs": [
    {
     "data": {
      "text/plain": [
       "Text(0.5, 1.0, 'Sample data')"
      ]
     },
     "execution_count": 21,
     "metadata": {},
     "output_type": "execute_result"
    },
    {
     "data": {
      "image/png": "[encoded data removed]",
      "text/plain": [
       "<Figure size 640x480 with 1 Axes>"
      ]
     },
     "metadata": {},
     "output_type": "display_data"
    }
   ],
   "source": [
    "## Example with more extreme covariance\n",
    "nr.seed(1233)\n",
    "cov = np.array([[1.0, 0.99], [0.99, 1.0]])\n",
    "mean = np.array([0.0, 0.0])\n",
    "\n",
    "sample_2 = nr.multivariate_normal(mean, cov, 100)\n",
    "\n",
    "plt.scatter(sample_2[:,0], sample_2[:,1])\n",
    "plt.xlabel('Dimension 1')\n",
    "plt.ylabel('Dimension 2')\n",
    "plt.title('Sample data')"
   ]
  },
  {
   "cell_type": "code",
   "execution_count": 22,
   "id": "5e2b0ff5",
   "metadata": {},
   "outputs": [
    {
     "data": {
      "text/plain": [
       "array([[85.57316277, 84.98432934],\n",
       "       [84.98432934, 86.03627199]])"
      ]
     },
     "execution_count": 22,
     "metadata": {},
     "output_type": "execute_result"
    }
   ],
   "source": [
    "cov_sample_2 = np.matmul(np.transpose(sample_2), sample_2)\n",
    "cov_sample_2"
   ]
  },
  {
   "cell_type": "code",
   "execution_count": 23,
   "id": "eb610932",
   "metadata": {},
   "outputs": [
    {
     "name": "stdout",
     "output_type": "stream",
     "text": [
      "[  0.82007258 170.78936217]\n",
      "[[-0.70806944 -0.70614281]\n",
      " [ 0.70614281 -0.70806944]]\n"
     ]
    }
   ],
   "source": [
    "sample_2_eigs, sample_2_Q = np.linalg.eig(cov_sample_2)\n",
    "print(sample_2_eigs)\n",
    "print(sample_2_Q)"
   ]
  },
  {
   "cell_type": "code",
   "execution_count": 24,
   "id": "a3746202",
   "metadata": {},
   "outputs": [
    {
     "name": "stdout",
     "output_type": "stream",
     "text": [
      "Condition number = 208.26127620828697\n"
     ]
    }
   ],
   "source": [
    "print('Condition number = ' + str(np.max(sample_2_eigs)/np.min(sample_2_eigs)))"
   ]
  },
  {
   "cell_type": "code",
   "execution_count": 25,
   "id": "515b087b",
   "metadata": {},
   "outputs": [
    {
     "name": "stdout",
     "output_type": "stream",
     "text": [
      "Dot product of columns = 0.0\n",
      "Dot product of rows = 0.0\n"
     ]
    }
   ],
   "source": [
    "# Verify the eigenvectors are orthogonal  \n",
    "print('Dot product of columns = ' + str(np.dot(sample_2_Q[:,0],sample_2_Q[:,1])))\n",
    "print('Dot product of rows = ' + str(np.dot(sample_2_Q[0,:],sample_2_Q[1,:])))"
   ]
  },
  {
   "cell_type": "code",
   "execution_count": null,
   "id": "20d75b44",
   "metadata": {},
   "outputs": [],
   "source": []
  }
 ],
 "metadata": {
  "kernelspec": {
   "display_name": "Python 3 (ipykernel)",
   "language": "python",
   "name": "python3"
  },
  "language_info": {
   "codemirror_mode": {
    "name": "ipython",
    "version": 3
   },
   "file_extension": ".py",
   "mimetype": "text/x-python",
   "name": "python",
   "nbconvert_exporter": "python",
   "pygments_lexer": "ipython3",
   "version": "3.9.13"
  }
 },
 "nbformat": 4,
 "nbformat_minor": 5
}
