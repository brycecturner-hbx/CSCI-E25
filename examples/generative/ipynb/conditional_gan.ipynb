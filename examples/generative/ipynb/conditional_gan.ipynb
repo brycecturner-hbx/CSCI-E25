{
  "cells": [
    {
      "cell_type": "markdown",
      "metadata": {
        "id": "10KH_t7L5QY5"
      },
      "source": [
        "# Conditional GAN\n",
        "\n",
        "**Author:** [Sayak Paul](https://twitter.com/RisingSayak)<br>\n",
        "**Date created:** 2021/07/13<br>\n",
        "**Last modified:** 2021/07/15<br>\n",
        "**Description:** Training a GAN conditioned on class labels to generate handwritten digits."
      ]
    },
    {
      "cell_type": "markdown",
      "metadata": {
        "id": "Uv9x3Kvj5QY9"
      },
      "source": [
        "Generative Adversarial Networks (GANs) let us generate novel image data, video data,\n",
        "or audio data from a random input. Typically, the random input is sampled\n",
        "from a normal distribution, before going through a series of transformations that turn\n",
        "it into something plausible (image, video, audio, etc.).\n",
        "\n",
        "However, a simple [DCGAN](https://arxiv.org/abs/1511.06434) doesn't let us control\n",
        "the appearance (e.g. class) of the samples we're generating. For instance,\n",
        "with a GAN that generates MNIST handwritten digits, a simple DCGAN wouldn't let us\n",
        "choose the class of digits we're generating.\n",
        "To be able to control what we generate, we need to _condition_ the GAN output\n",
        "on a semantic input, such as the class of an image.\n",
        "\n",
        "In this example, we'll build a **Conditional GAN** that can generate MNIST handwritten\n",
        "digits conditioned on a given class. Such a model can have various useful applications:\n",
        "\n",
        "* let's say you are dealing with an\n",
        "[imbalanced image dataset](https://developers.google.com/machine-learning/data-prep/construct/sampling-splitting/imbalanced-data),\n",
        "and you'd like to gather more examples for the skewed class to balance the dataset.\n",
        "Data collection can be a costly process on its own. You could instead train a Conditional GAN and use\n",
        "it to generate novel images for the class that needs balancing.\n",
        "* Since the generator learns to associate the generated samples with the class labels,\n",
        "its representations can also be used for [other downstream tasks](https://arxiv.org/abs/1809.11096).\n",
        "\n",
        "Following are the references used for developing this example:\n",
        "\n",
        "* [Conditional Generative Adversarial Nets](https://arxiv.org/abs/1411.1784)\n",
        "* [Lecture on Conditional Generation from Coursera](https://www.coursera.org/lecture/build-basic-generative-adversarial-networks-gans/conditional-generation-inputs-2OPrG)\n",
        "\n",
        "If you need a refresher on GANs, you can refer to the \"Generative adversarial networks\"\n",
        "section of\n",
        "[this resource](https://livebook.manning.com/book/deep-learning-with-python-second-edition/chapter-12/r-3/232).\n",
        "\n",
        "This example requires TensorFlow 2.5 or higher, as well as TensorFlow Docs, which can be\n",
        "installed using the following command:"
      ]
    },
    {
      "cell_type": "code",
      "execution_count": 2,
      "metadata": {
        "id": "CZrcnUv_5QY_",
        "outputId": "4be3881d-2dbb-4721-a15d-41c829a37861",
        "colab": {
          "base_uri": "https://localhost:8080/"
        }
      },
      "outputs": [
        {
          "output_type": "stream",
          "name": "stdout",
          "text": [
            "  Preparing metadata (setup.py) ... \u001b[?25l\u001b[?25hdone\n",
            "  Building wheel for tensorflow-docs (setup.py) ... \u001b[?25l\u001b[?25hdone\n"
          ]
        }
      ],
      "source": [
        "!pip install -q git+https://github.com/tensorflow/docs"
      ]
    },
    {
      "cell_type": "markdown",
      "metadata": {
        "id": "JbDMRdEt5QZC"
      },
      "source": [
        "## Imports"
      ]
    },
    {
      "cell_type": "code",
      "execution_count": 3,
      "metadata": {
        "id": "7Enlo-Ra5QZD"
      },
      "outputs": [],
      "source": [
        "from tensorflow import keras\n",
        "from tensorflow.keras import layers\n",
        "\n",
        "from tensorflow_docs.vis import embed\n",
        "import matplotlib.pyplot as plt\n",
        "import tensorflow as tf\n",
        "import numpy as np\n",
        "import imageio"
      ]
    },
    {
      "cell_type": "markdown",
      "metadata": {
        "id": "Bb1r4PFW5QZE"
      },
      "source": [
        "## Constants and hyperparameters"
      ]
    },
    {
      "cell_type": "code",
      "execution_count": 4,
      "metadata": {
        "id": "YI4Hs_Ed5QZE"
      },
      "outputs": [],
      "source": [
        "batch_size = 64\n",
        "num_channels = 1\n",
        "num_classes = 10\n",
        "image_size = 28\n",
        "latent_dim = 128"
      ]
    },
    {
      "cell_type": "markdown",
      "metadata": {
        "id": "qXbU6LHn5QZF"
      },
      "source": [
        "## Loading the MNIST dataset and preprocessing it"
      ]
    },
    {
      "cell_type": "code",
      "execution_count": 5,
      "metadata": {
        "id": "rAmzxnxr5QZG",
        "outputId": "6bcef478-18e6-4754-c2c4-bceae9505315",
        "colab": {
          "base_uri": "https://localhost:8080/"
        }
      },
      "outputs": [
        {
          "output_type": "stream",
          "name": "stdout",
          "text": [
            "Downloading data from https://storage.googleapis.com/tensorflow/tf-keras-datasets/mnist.npz\n",
            "11490434/11490434 [==============================] - 0s 0us/step\n",
            "Shape of training images: (70000, 28, 28, 1)\n",
            "Shape of training labels: (70000, 10)\n"
          ]
        }
      ],
      "source": [
        "# We'll use all the available examples from both the training and test\n",
        "# sets.\n",
        "(x_train, y_train), (x_test, y_test) = keras.datasets.mnist.load_data()\n",
        "all_digits = np.concatenate([x_train, x_test])\n",
        "all_labels = np.concatenate([y_train, y_test])\n",
        "\n",
        "# Scale the pixel values to [0, 1] range, add a channel dimension to\n",
        "# the images, and one-hot encode the labels.\n",
        "all_digits = all_digits.astype(\"float32\") / 255.0\n",
        "all_digits = np.reshape(all_digits, (-1, 28, 28, 1))\n",
        "all_labels = keras.utils.to_categorical(all_labels, 10)\n",
        "\n",
        "# Create tf.data.Dataset.\n",
        "dataset = tf.data.Dataset.from_tensor_slices((all_digits, all_labels))\n",
        "dataset = dataset.shuffle(buffer_size=1024).batch(batch_size)\n",
        "\n",
        "print(f\"Shape of training images: {all_digits.shape}\")\n",
        "print(f\"Shape of training labels: {all_labels.shape}\")"
      ]
    },
    {
      "cell_type": "markdown",
      "metadata": {
        "id": "taeddNmW5QZH"
      },
      "source": [
        "## Calculating the number of input channel for the generator and discriminator\n",
        "\n",
        "In a regular (unconditional) GAN, we start by sampling noise (of some fixed\n",
        "dimension) from a normal distribution. In our case, we also need to account\n",
        "for the class labels. We will have to add the number of classes to\n",
        "the input channels of the generator (noise input) as well as the discriminator\n",
        "(generated image input)."
      ]
    },
    {
      "cell_type": "code",
      "execution_count": 6,
      "metadata": {
        "id": "NCYL6DZl5QZI",
        "outputId": "ebc48bca-7b0b-4154-fc91-0bf2e42a0076",
        "colab": {
          "base_uri": "https://localhost:8080/"
        }
      },
      "outputs": [
        {
          "output_type": "stream",
          "name": "stdout",
          "text": [
            "138 11\n"
          ]
        }
      ],
      "source": [
        "generator_in_channels = latent_dim + num_classes\n",
        "discriminator_in_channels = num_channels + num_classes\n",
        "print(generator_in_channels, discriminator_in_channels)"
      ]
    },
    {
      "cell_type": "markdown",
      "metadata": {
        "id": "QZOWLbvV5QZJ"
      },
      "source": [
        "## Creating the discriminator and generator\n",
        "\n",
        "The model definitions (`discriminator`, `generator`, and `ConditionalGAN`) have been\n",
        "adapted from [this example](https://keras.io/guides/customizing_what_happens_in_fit/)."
      ]
    },
    {
      "cell_type": "code",
      "execution_count": 7,
      "metadata": {
        "id": "6lV9SI7G5QZJ"
      },
      "outputs": [],
      "source": [
        "# Create the discriminator.\n",
        "discriminator = keras.Sequential(\n",
        "    [\n",
        "        keras.layers.InputLayer((28, 28, discriminator_in_channels)),\n",
        "        layers.Conv2D(64, (3, 3), strides=(2, 2), padding=\"same\"),\n",
        "        layers.LeakyReLU(alpha=0.2),\n",
        "        layers.Conv2D(128, (3, 3), strides=(2, 2), padding=\"same\"),\n",
        "        layers.LeakyReLU(alpha=0.2),\n",
        "        layers.GlobalMaxPooling2D(),\n",
        "        layers.Dense(1),\n",
        "    ],\n",
        "    name=\"discriminator\",\n",
        ")\n",
        "\n",
        "# Create the generator.\n",
        "generator = keras.Sequential(\n",
        "    [\n",
        "        keras.layers.InputLayer((generator_in_channels,)),\n",
        "        # We want to generate 128 + num_classes coefficients to reshape into a\n",
        "        # 7x7x(128 + num_classes) map.\n",
        "        layers.Dense(7 * 7 * generator_in_channels),\n",
        "        layers.LeakyReLU(alpha=0.2),\n",
        "        layers.Reshape((7, 7, generator_in_channels)),\n",
        "        layers.Conv2DTranspose(128, (4, 4), strides=(2, 2), padding=\"same\"),\n",
        "        layers.LeakyReLU(alpha=0.2),\n",
        "        layers.Conv2DTranspose(128, (4, 4), strides=(2, 2), padding=\"same\"),\n",
        "        layers.LeakyReLU(alpha=0.2),\n",
        "        layers.Conv2D(1, (7, 7), padding=\"same\", activation=\"sigmoid\"),\n",
        "    ],\n",
        "    name=\"generator\",\n",
        ")"
      ]
    },
    {
      "cell_type": "markdown",
      "metadata": {
        "id": "gsbxIVG95QZK"
      },
      "source": [
        "## Creating a `ConditionalGAN` model"
      ]
    },
    {
      "cell_type": "code",
      "execution_count": 8,
      "metadata": {
        "id": "lniAOUh25QZK"
      },
      "outputs": [],
      "source": [
        "\n",
        "class ConditionalGAN(keras.Model):\n",
        "    def __init__(self, discriminator, generator, latent_dim):\n",
        "        super().__init__()\n",
        "        self.discriminator = discriminator\n",
        "        self.generator = generator\n",
        "        self.latent_dim = latent_dim\n",
        "        self.gen_loss_tracker = keras.metrics.Mean(name=\"generator_loss\")\n",
        "        self.disc_loss_tracker = keras.metrics.Mean(name=\"discriminator_loss\")\n",
        "\n",
        "    @property\n",
        "    def metrics(self):\n",
        "        return [self.gen_loss_tracker, self.disc_loss_tracker]\n",
        "\n",
        "    def compile(self, d_optimizer, g_optimizer, loss_fn):\n",
        "        super().compile()\n",
        "        self.d_optimizer = d_optimizer\n",
        "        self.g_optimizer = g_optimizer\n",
        "        self.loss_fn = loss_fn\n",
        "\n",
        "    def train_step(self, data):\n",
        "        # Unpack the data.\n",
        "        real_images, one_hot_labels = data\n",
        "\n",
        "        # Add dummy dimensions to the labels so that they can be concatenated with\n",
        "        # the images. This is for the discriminator.\n",
        "        image_one_hot_labels = one_hot_labels[:, :, None, None]\n",
        "        image_one_hot_labels = tf.repeat(\n",
        "            image_one_hot_labels, repeats=[image_size * image_size]\n",
        "        )\n",
        "        image_one_hot_labels = tf.reshape(\n",
        "            image_one_hot_labels, (-1, image_size, image_size, num_classes)\n",
        "        )\n",
        "\n",
        "        # Sample random points in the latent space and concatenate the labels.\n",
        "        # This is for the generator.\n",
        "        batch_size = tf.shape(real_images)[0]\n",
        "        random_latent_vectors = tf.random.normal(shape=(batch_size, self.latent_dim))\n",
        "        random_vector_labels = tf.concat(\n",
        "            [random_latent_vectors, one_hot_labels], axis=1\n",
        "        )\n",
        "\n",
        "        # Decode the noise (guided by labels) to fake images.\n",
        "        generated_images = self.generator(random_vector_labels)\n",
        "\n",
        "        # Combine them with real images. Note that we are concatenating the labels\n",
        "        # with these images here.\n",
        "        fake_image_and_labels = tf.concat([generated_images, image_one_hot_labels], -1)\n",
        "        real_image_and_labels = tf.concat([real_images, image_one_hot_labels], -1)\n",
        "        combined_images = tf.concat(\n",
        "            [fake_image_and_labels, real_image_and_labels], axis=0\n",
        "        )\n",
        "\n",
        "        # Assemble labels discriminating real from fake images.\n",
        "        labels = tf.concat(\n",
        "            [tf.ones((batch_size, 1)), tf.zeros((batch_size, 1))], axis=0\n",
        "        )\n",
        "\n",
        "        # Train the discriminator.\n",
        "        with tf.GradientTape() as tape:\n",
        "            predictions = self.discriminator(combined_images)\n",
        "            d_loss = self.loss_fn(labels, predictions)\n",
        "        grads = tape.gradient(d_loss, self.discriminator.trainable_weights)\n",
        "        self.d_optimizer.apply_gradients(\n",
        "            zip(grads, self.discriminator.trainable_weights)\n",
        "        )\n",
        "\n",
        "        # Sample random points in the latent space.\n",
        "        random_latent_vectors = tf.random.normal(shape=(batch_size, self.latent_dim))\n",
        "        random_vector_labels = tf.concat(\n",
        "            [random_latent_vectors, one_hot_labels], axis=1\n",
        "        )\n",
        "\n",
        "        # Assemble labels that say \"all real images\".\n",
        "        misleading_labels = tf.zeros((batch_size, 1))\n",
        "\n",
        "        # Train the generator (note that we should *not* update the weights\n",
        "        # of the discriminator)!\n",
        "        with tf.GradientTape() as tape:\n",
        "            fake_images = self.generator(random_vector_labels)\n",
        "            fake_image_and_labels = tf.concat([fake_images, image_one_hot_labels], -1)\n",
        "            predictions = self.discriminator(fake_image_and_labels)\n",
        "            g_loss = self.loss_fn(misleading_labels, predictions)\n",
        "        grads = tape.gradient(g_loss, self.generator.trainable_weights)\n",
        "        self.g_optimizer.apply_gradients(zip(grads, self.generator.trainable_weights))\n",
        "\n",
        "        # Monitor loss.\n",
        "        self.gen_loss_tracker.update_state(g_loss)\n",
        "        self.disc_loss_tracker.update_state(d_loss)\n",
        "        return {\n",
        "            \"g_loss\": self.gen_loss_tracker.result(),\n",
        "            \"d_loss\": self.disc_loss_tracker.result(),\n",
        "        }\n"
      ]
    },
    {
      "cell_type": "markdown",
      "metadata": {
        "id": "bC37wjLd5QZL"
      },
      "source": [
        "## Training the Conditional GAN"
      ]
    },
    {
      "cell_type": "code",
      "execution_count": 9,
      "metadata": {
        "id": "HygyIm075QZL",
        "outputId": "46f717a0-1cd3-4a65-c8dd-4bb951f1dc5c",
        "colab": {
          "base_uri": "https://localhost:8080/"
        }
      },
      "outputs": [
        {
          "output_type": "stream",
          "name": "stdout",
          "text": [
            "Epoch 1/20\n",
            "1094/1094 [==============================] - 46s 27ms/step - g_loss: 1.4804 - d_loss: 0.4214\n",
            "Epoch 2/20\n",
            "1094/1094 [==============================] - 30s 27ms/step - g_loss: 1.4752 - d_loss: 0.4530\n",
            "Epoch 3/20\n",
            "1094/1094 [==============================] - 30s 27ms/step - g_loss: 1.6195 - d_loss: 0.3765\n",
            "Epoch 4/20\n",
            "1094/1094 [==============================] - 30s 27ms/step - g_loss: 2.2551 - d_loss: 0.2217\n",
            "Epoch 5/20\n",
            "1094/1094 [==============================] - 30s 27ms/step - g_loss: 2.1762 - d_loss: 0.2993\n",
            "Epoch 6/20\n",
            "1094/1094 [==============================] - 30s 27ms/step - g_loss: 1.0461 - d_loss: 0.6161\n",
            "Epoch 7/20\n",
            "1094/1094 [==============================] - 30s 27ms/step - g_loss: 0.9092 - d_loss: 0.6505\n",
            "Epoch 8/20\n",
            "1094/1094 [==============================] - 30s 27ms/step - g_loss: 0.8474 - d_loss: 0.6681\n",
            "Epoch 9/20\n",
            "1094/1094 [==============================] - 30s 27ms/step - g_loss: 0.8248 - d_loss: 0.6674\n",
            "Epoch 10/20\n",
            "1094/1094 [==============================] - 30s 27ms/step - g_loss: 0.8124 - d_loss: 0.6720\n",
            "Epoch 11/20\n",
            "1094/1094 [==============================] - 30s 27ms/step - g_loss: 0.7914 - d_loss: 0.6776\n",
            "Epoch 12/20\n",
            "1094/1094 [==============================] - 30s 28ms/step - g_loss: 0.7877 - d_loss: 0.6746\n",
            "Epoch 13/20\n",
            "1094/1094 [==============================] - 30s 27ms/step - g_loss: 0.7608 - d_loss: 0.6836\n",
            "Epoch 14/20\n",
            "1094/1094 [==============================] - 30s 28ms/step - g_loss: 0.7578 - d_loss: 0.6806\n",
            "Epoch 15/20\n",
            "1094/1094 [==============================] - 30s 27ms/step - g_loss: 0.7581 - d_loss: 0.6782\n",
            "Epoch 16/20\n",
            "1094/1094 [==============================] - 30s 27ms/step - g_loss: 0.7668 - d_loss: 0.6748\n",
            "Epoch 17/20\n",
            "1094/1094 [==============================] - 30s 27ms/step - g_loss: 0.7585 - d_loss: 0.6730\n",
            "Epoch 18/20\n",
            "1094/1094 [==============================] - 30s 27ms/step - g_loss: 0.7660 - d_loss: 0.6732\n",
            "Epoch 19/20\n",
            "1094/1094 [==============================] - 29s 27ms/step - g_loss: 0.7658 - d_loss: 0.6672\n",
            "Epoch 20/20\n",
            "1094/1094 [==============================] - 30s 27ms/step - g_loss: 0.7739 - d_loss: 0.6637\n",
            "Epoch 1/30\n",
            "1094/1094 [==============================] - 30s 27ms/step - g_loss: 0.7799 - d_loss: 0.6611\n",
            "Epoch 2/30\n",
            "1094/1094 [==============================] - 30s 27ms/step - g_loss: 0.7957 - d_loss: 0.6509\n",
            "Epoch 3/30\n",
            "1094/1094 [==============================] - 30s 27ms/step - g_loss: 0.8148 - d_loss: 0.6455\n",
            "Epoch 4/30\n",
            "1094/1094 [==============================] - 30s 28ms/step - g_loss: 0.7959 - d_loss: 0.6478\n",
            "Epoch 5/30\n",
            "1094/1094 [==============================] - 30s 28ms/step - g_loss: 0.7862 - d_loss: 0.6562\n",
            "Epoch 6/30\n",
            "1094/1094 [==============================] - 30s 27ms/step - g_loss: 0.7796 - d_loss: 0.6597\n",
            "Epoch 7/30\n",
            "1094/1094 [==============================] - 30s 28ms/step - g_loss: 0.7715 - d_loss: 0.6654\n",
            "Epoch 8/30\n",
            "1094/1094 [==============================] - 30s 28ms/step - g_loss: 0.7631 - d_loss: 0.6690\n",
            "Epoch 9/30\n",
            "1094/1094 [==============================] - 30s 27ms/step - g_loss: 0.7581 - d_loss: 0.6727\n",
            "Epoch 10/30\n",
            "1094/1094 [==============================] - 30s 27ms/step - g_loss: 0.7523 - d_loss: 0.6760\n",
            "Epoch 11/30\n",
            "1094/1094 [==============================] - 30s 27ms/step - g_loss: 0.7459 - d_loss: 0.6787\n",
            "Epoch 12/30\n",
            "1094/1094 [==============================] - 31s 28ms/step - g_loss: 0.7440 - d_loss: 0.6779\n",
            "Epoch 13/30\n",
            "1094/1094 [==============================] - 30s 28ms/step - g_loss: 0.7421 - d_loss: 0.6788\n",
            "Epoch 14/30\n",
            "1094/1094 [==============================] - 30s 28ms/step - g_loss: 0.7431 - d_loss: 0.6802\n",
            "Epoch 15/30\n",
            "1094/1094 [==============================] - 30s 27ms/step - g_loss: 0.7403 - d_loss: 0.6803\n",
            "Epoch 16/30\n",
            "1094/1094 [==============================] - 30s 28ms/step - g_loss: 0.7422 - d_loss: 0.6811\n",
            "Epoch 17/30\n",
            "1094/1094 [==============================] - 30s 28ms/step - g_loss: 0.7377 - d_loss: 0.6820\n",
            "Epoch 18/30\n",
            "1094/1094 [==============================] - 30s 28ms/step - g_loss: 0.7369 - d_loss: 0.6823\n",
            "Epoch 19/30\n",
            "1094/1094 [==============================] - 30s 28ms/step - g_loss: 0.7379 - d_loss: 0.6819\n",
            "Epoch 20/30\n",
            "1094/1094 [==============================] - 31s 28ms/step - g_loss: 0.7343 - d_loss: 0.6836\n",
            "Epoch 21/30\n",
            "1094/1094 [==============================] - 31s 28ms/step - g_loss: 0.7315 - d_loss: 0.6832\n",
            "Epoch 22/30\n",
            "1094/1094 [==============================] - 30s 27ms/step - g_loss: 0.7340 - d_loss: 0.6829\n",
            "Epoch 23/30\n",
            "1094/1094 [==============================] - 30s 28ms/step - g_loss: 0.7308 - d_loss: 0.6837\n",
            "Epoch 24/30\n",
            "1094/1094 [==============================] - 30s 28ms/step - g_loss: 0.7291 - d_loss: 0.6843\n",
            "Epoch 25/30\n",
            "1094/1094 [==============================] - 30s 28ms/step - g_loss: 0.7279 - d_loss: 0.6833\n",
            "Epoch 26/30\n",
            "1094/1094 [==============================] - 30s 28ms/step - g_loss: 0.7277 - d_loss: 0.6851\n",
            "Epoch 27/30\n",
            "1094/1094 [==============================] - 30s 28ms/step - g_loss: 0.7261 - d_loss: 0.6841\n",
            "Epoch 28/30\n",
            "1094/1094 [==============================] - 30s 27ms/step - g_loss: 0.7263 - d_loss: 0.6853\n",
            "Epoch 29/30\n",
            "1094/1094 [==============================] - 30s 28ms/step - g_loss: 0.7267 - d_loss: 0.6844\n",
            "Epoch 30/30\n",
            "1094/1094 [==============================] - 30s 27ms/step - g_loss: 0.7238 - d_loss: 0.6857\n"
          ]
        }
      ],
      "source": [
        "np.random.seed(4352)\n",
        "\n",
        "cond_gan = ConditionalGAN(\n",
        "    discriminator=discriminator, generator=generator, latent_dim=latent_dim\n",
        ")\n",
        "cond_gan.compile(\n",
        "    d_optimizer=keras.optimizers.Adam(learning_rate=0.0003),\n",
        "    g_optimizer=keras.optimizers.Adam(learning_rate=0.0003),\n",
        "    loss_fn=keras.losses.BinaryCrossentropy(from_logits=True),\n",
        ")\n",
        "\n",
        "cond_gan.fit(dataset, epochs=20)\n",
        "\n",
        "history = cond_gan.fit(dataset, epochs=30)"
      ]
    },
    {
      "cell_type": "code",
      "source": [
        "import matplotlib.pyplot as plt    \n",
        "_, ax = plt.subplots(figsize=(8,8))\n",
        "ax.plot(history.epoch, history.history['d_loss'], label='Discriminator')\n",
        "ax.plot(history.epoch, history.history['g_loss'], label='Generator')\n",
        "ax.set_title('Discriminator and generator loss vs. epoch')\n",
        "ax.set_ylabel('Loss')\n",
        "ax.set_xlabel('Epoch')\n",
        "plt.legend()"
      ],
      "metadata": {
        "id": "5Xr6KOg_A__U",
        "outputId": "2750afda-2480-46b8-8292-d7cce433c78a",
        "colab": {
          "base_uri": "https://localhost:8080/",
          "height": 736
        }
      },
      "execution_count": 10,
      "outputs": [
        {
          "output_type": "execute_result",
          "data": {
            "text/plain": [
              "<matplotlib.legend.Legend at 0x7f1dd838c910>"
            ]
          },
          "metadata": {},
          "execution_count": 10
        },
        {
          "output_type": "display_data",
          "data": {
            "text/plain": [
              "<Figure size 800x800 with 1 Axes>"
            ],
            "image/png": "[encoded data removed]"
          },
          "metadata": {}
        }
      ]
    },
    {
      "cell_type": "markdown",
      "metadata": {
        "id": "TKWotH9Q5QZL"
      },
      "source": [
        "## Interpolating between classes with the trained generator"
      ]
    },
    {
      "cell_type": "code",
      "execution_count": 11,
      "metadata": {
        "id": "qN-CSRw15QZM",
        "outputId": "96b6fd9a-ba63-4e46-8526-0f2898226d4f",
        "colab": {
          "base_uri": "https://localhost:8080/"
        }
      },
      "outputs": [
        {
          "output_type": "stream",
          "name": "stdout",
          "text": [
            "1/1 [==============================] - 0s 286ms/step\n"
          ]
        }
      ],
      "source": [
        "# We first extract the trained generator from our Conditiona GAN.\n",
        "trained_gen = cond_gan.generator\n",
        "\n",
        "# Choose the number of intermediate images that would be generated in\n",
        "# between the interpolation + 2 (start and last images).\n",
        "num_interpolation = 9  # @param {type:\"integer\"}\n",
        "\n",
        "# Sample noise for the interpolation.\n",
        "interpolation_noise = tf.random.normal(shape=(1, latent_dim))\n",
        "interpolation_noise = tf.repeat(interpolation_noise, repeats=num_interpolation)\n",
        "interpolation_noise = tf.reshape(interpolation_noise, (num_interpolation, latent_dim))\n",
        "\n",
        "\n",
        "def interpolate_class(first_number, second_number):\n",
        "    # Convert the start and end labels to one-hot encoded vectors.\n",
        "    first_label = keras.utils.to_categorical([first_number], num_classes)\n",
        "    second_label = keras.utils.to_categorical([second_number], num_classes)\n",
        "    first_label = tf.cast(first_label, tf.float32)\n",
        "    second_label = tf.cast(second_label, tf.float32)\n",
        "\n",
        "    # Calculate the interpolation vector between the two labels.\n",
        "    percent_second_label = tf.linspace(0, 1, num_interpolation)[:, None]\n",
        "    percent_second_label = tf.cast(percent_second_label, tf.float32)\n",
        "    interpolation_labels = (\n",
        "        first_label * (1 - percent_second_label) + second_label * percent_second_label\n",
        "    )\n",
        "\n",
        "    # Combine the noise and the labels and run inference with the generator.\n",
        "    noise_and_labels = tf.concat([interpolation_noise, interpolation_labels], 1)\n",
        "    fake = trained_gen.predict(noise_and_labels)\n",
        "    return fake\n",
        "\n",
        "\n",
        "start_class = 1  # @param {type:\"slider\", min:0, max:9, step:1}\n",
        "end_class = 5  # @param {type:\"slider\", min:0, max:9, step:1}\n",
        "\n",
        "fake_images = interpolate_class(start_class, end_class)"
      ]
    },
    {
      "cell_type": "markdown",
      "metadata": {
        "id": "hAjw466W5QZM"
      },
      "source": [
        "Here, we first sample noise from a normal distribution and then we repeat that for\n",
        "`num_interpolation` times and reshape the result accordingly.\n",
        "We then distribute it uniformly for `num_interpolation`\n",
        "with the label indentities being present in some proportion."
      ]
    },
    {
      "cell_type": "code",
      "execution_count": 12,
      "metadata": {
        "id": "to5Ki7UL5QZM",
        "outputId": "ce82ed05-4bc8-43ee-e891-cdccf18ad0c4",
        "colab": {
          "base_uri": "https://localhost:8080/",
          "height": 117
        }
      },
      "outputs": [
        {
          "output_type": "execute_result",
          "data": {
            "text/plain": [
              "<IPython.core.display.HTML object>"
            ],
            "text/html": [
              "<img src=\"data:image/gif;base64,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\"/>"
            ]
          },
          "metadata": {},
          "execution_count": 12
        }
      ],
      "source": [
        "fake_images *= 255.0\n",
        "converted_images = fake_images.astype(np.uint8)\n",
        "converted_images = tf.image.resize(converted_images, (96, 96)).numpy().astype(np.uint8)\n",
        "imageio.mimsave(\"animation.gif\", converted_images, fps=1)\n",
        "embed.embed_file(\"animation.gif\")"
      ]
    },
    {
      "cell_type": "markdown",
      "metadata": {
        "id": "o607RS9-5QZM"
      },
      "source": [
        "We can further improve the performance of this model with recipes like\n",
        "[WGAN-GP](https://keras.io/examples/generative/wgan_gp).\n",
        "Conditional generation is also widely used in many modern image generation architectures like\n",
        "[VQ-GANs](https://arxiv.org/abs/2012.09841), [DALL-E](https://openai.com/blog/dall-e/),\n",
        "etc.\n",
        "\n",
        "You can use the trained model hosted on [Hugging Face Hub](https://huggingface.co/keras-io/conditional-gan) and try the demo on [Hugging Face Spaces](https://huggingface.co/spaces/keras-io/conditional-GAN)."
      ]
    }
  ],
  "metadata": {
    "accelerator": "GPU",
    "colab": {
      "name": "conditional_gan",
      "provenance": []
    },
    "kernelspec": {
      "display_name": "Python 3",
      "language": "python",
      "name": "python3"
    },
    "language_info": {
      "codemirror_mode": {
        "name": "ipython",
        "version": 3
      },
      "file_extension": ".py",
      "mimetype": "text/x-python",
      "name": "python",
      "nbconvert_exporter": "python",
      "pygments_lexer": "ipython3",
      "version": "3.7.0"
    }
  },
  "nbformat": 4,
  "nbformat_minor": 0
}