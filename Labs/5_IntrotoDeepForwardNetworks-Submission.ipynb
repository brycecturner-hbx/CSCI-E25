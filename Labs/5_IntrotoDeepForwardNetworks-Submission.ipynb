{
 "cells": [
  {
   "cell_type": "markdown",
   "metadata": {
    "id": "jvcIaRyeks3V"
   },
   "source": [
    "# CSCI E-25     \n",
    "\n",
    "## Introduction to Deep Neural Networks\n",
    "\n",
    "## Steve Elston\n",
    "### Executed in Google Colab by Bryce Turner\n",
    "\n",
    "## 1.0 Overview\n",
    "\n",
    "This lesson introduces you to the basics of neural network architecture in the form of deep forward networks. This architecture is the quintessential deep neural net architecture. In this lesson you will master the following:\n",
    "\n",
    "- Why is deep learning important and how it relates to representation, learning and inference.\n",
    "- How a basic Preceptron works.\n",
    "- How to apply different types of loss functions. \n",
    "- Understand why nonlinear activation is important and why rectified linear units are a good choice.\n",
    "- How back propagation works, and how you apply the chain rule of calculus to determine gradient. \n",
    "- Understand the architectural trade-off between depth and width in deep networks.\n",
    "- Know how and why you must apply regularization to deep neural networks.  "
   ]
  },
  {
   "cell_type": "markdown",
   "metadata": {
    "id": "XpX2wLlrks3Y"
   },
   "source": [
    "### 1.1 Why is deep learning important?\n",
    "\n",
    "Deep learning methods are a form of **artificial intelligence (AI)** or **machine intelligence**. More specifically, deep learning algorithms are a type of **machine learning**. \n",
    "\n",
    "What properties does machine intelligence require? There have been many answers to this question over the history of computing. In this case, we will take a practical view, sometimes known as **weak AI**. There are three key properties an intelligent machine must have. Deep learning algorithms are one of a few classes of algorithms that can do the following, essential to machine intelligence:\n",
    "\n",
    "1. **Representation:** An intelligent machine must be able to represent a model of the world it interacts with in a general manner. Representation is key to intelligence. Without a good representation the best learning and inference algorithms will struggle. Whereas, good representation can greatly facilitate learning and inference. In conventional machine learning the representation is model and a set of features. The representation is limited to what the features can provide directly. Deep learning algorithms, on the other hand, learn learn complex representations from raw features. This behavior allows deep learning algorithms to approximate complex relationships. Further, the representations learned often generalize well, up to a point. \n",
    "2. **Learning:** As you likely guessed from the very name, deep learning algorithms learn from data. Whereas, conventional machine learning is focused on inference,deep learning algorithms learn both inference and representations. As a result, deep leaning algorithms are more complex and therefore harder to train than conventional machine learning algorithms.  \n",
    "3. **Inference:** Any machine intelligence algorithm must be able to perform inference. The inference is the result produced given new input data. To be useful, the inferences produced by a machine intelligence algorithm must **generalize** beyond the cases used for learning or training. Good generalization requires both good representations and learning which can deal with the complexity of diverse situations. Some deep learning algorithms can approach human levels of performance in inference tasks such as recognizing objects in images or understanding natural speech. \n",
    "\n",
    "The figure below shows a highly abstracted view of machine intelligence, showing the relationship between representation, learning and inference. In simple terms, the representation is learned and then used to make inferences. Errors in the inferences can be used to improve the learning of the representation.   \n",
    "\n",
    "<img src=\"img/MachineIntelligence.JPG\" alt=\"Drawing\" style=\"width:600px; height:300px\"/>\n",
    "\n",
    "<center>Schematic for creating machine intelligence</center>\n",
    "\n",
    "**That's it!** The entire rest of this course will focus on just these three points: representation, learning and inference!"
   ]
  },
  {
   "cell_type": "markdown",
   "metadata": {
    "id": "G4IZ55bxks3Z"
   },
   "source": [
    "### 1.2 Installing Keras\n",
    "\n",
    "This notebook will provides a first look at using the Keras package to define, train and evaluate deep learning models with Keras. The Keras package is a wrapper on TensorFlow, intended to abstract and simplify the definition, training and execution of TensorFlow deep learning models. You can find extensive well-written documentation for Keras [here](https://keras.io/). The book [Deep Learning with Python](https://www.manning.com/books/deep-learning-with-python-second-edition) by François Chollet, the creator of Keras, provides in-depth examples and discussion on a wide range of deep learning applications.      \n",
    "\n",
    "By the end of this lesson you will be able to work with basic feedforward architecture multi-layer neural nets. Feedforward networks are one of a class of basic models called **sequential models** which are easy to define with Keras. Some basic regularization is introduced. Additional regularization methods are covered in a subsequent lesson. \n",
    "\n",
    "Keras is part of the base package, as of the release of TensorFlow 2. Before proceeding make sure you have TensorFlow 2 installed in your environment. [Follow these instructions.](https://www.tensorflow.org/install).    \n",
    "\n",
    "****\n",
    "**Note:** As an alternative to working with a local installation, you may choose to use the [Google Colabratory](https://colab.research.google.com/?utm_source=scs-index). The Colabrotory virtual environment includes Anaconda, TensorFlow and Keras. However, the use of shared resources can result in slow execution.    \n",
    "****\n",
    "\n",
    "****\n",
    "**Note:** This notebook was constructed and tested using Anaconda 3 with Python 3. It is assumed that the standard Anaconda stack has been installed.\n",
    "****"
   ]
  },
  {
   "cell_type": "code",
   "execution_count": 1,
   "metadata": {
    "id": "6VagFf1Aks3a"
   },
   "outputs": [],
   "source": [
    "import tensorflow as tf\n",
    "from keras.datasets import mnist\n",
    "import keras.utils.np_utils as ku\n",
    "import keras.models as models\n",
    "import keras.layers as layers\n",
    "from keras import regularizers\n",
    "import numpy as np\n",
    "from math import exp\n",
    "import matplotlib.pyplot as plt\n",
    "import seaborn as sns\n",
    "\n",
    "%matplotlib inline"
   ]
  },
  {
   "cell_type": "markdown",
   "metadata": {
    "id": "aDqphjeYks3b"
   },
   "source": [
    "## 2.0 Forward propagation: The representation problem\n",
    "\n",
    "To create useful neutral network we need a **representation** that has two important properties.   \n",
    "\n",
    "First, there needs to be a way to represent complex functions of the input. Without this property, nothing is gained, since there are numerous machine learning algorithms that work with simple representations. We will spend the rest of this section exploring this problem.   \n",
    "\n",
    "Second, the representation needs to be learnable. Quite obviously, no machine intelligence representation is useful if there is not a practical algorithm to learn it. We will take up this problem in another section. "
   ]
  },
  {
   "cell_type": "markdown",
   "metadata": {
    "id": "xBBNjrGvks3b"
   },
   "source": [
    "### 2.1 Linear networks\n",
    "\n",
    "Let's start with the simplest possible network. It has inputs, and an output. The output is a **afine transformation** of the input values. We say this network performs an afine transformation since there is a bias term $b$. \n",
    "\n",
    "\n",
    "<img src=\"img/LinearNetwork.JPG\" alt=\"Drawing\" style=\"width:400px; height:250px\"/>\n",
    "\n",
    "<center>**Figure 2.1**\n",
    "**A simple afine network**</center>\n",
    "\n",
    "This output $y$ of this network is just:\n",
    "\n",
    "$$y = f(x) = \\sum_i w_i \\cdot x_i + b$$\n",
    "\n",
    "This network performs linear regression. Being able to perform only afine transformations, it can't do anything else. \n",
    "\n",
    "This representation is certainly learnable. However, it does not gain us anything over familiar linear regression methods. "
   ]
  },
  {
   "cell_type": "markdown",
   "metadata": {
    "id": "hJ6okADNks3d"
   },
   "source": [
    "### 2.2 The preceptron"
   ]
  },
  {
   "cell_type": "markdown",
   "metadata": {
    "id": "-_ObrPAiks3d"
   },
   "source": [
    "To get started, let's have a look at a simple **preceptron** model. The perceptron was proposed by Rosenblatt (1962). He built on the earlier attempts at a neural network models by McCulloch and Pitts (1943) and Heeb (1949). The perceptron adds **nonlinear activation** to the afine network. \n",
    "\n",
    "\n",
    "<img src=\"img/Preceptron.JPG\" alt=\"Drawing\" style=\"width:350px; height:250px\"/>\n",
    "<center>Figure 2.2 Schematic of perceptron with nonlinear activation</center>\n",
    "\n",
    "The output $y$ of the perceptron is given by the following:\n",
    "\n",
    "$$y = f(x) = \\sigma \\Big( \\sum_i w_i \\cdot x_i + b \\Big)$$\n",
    "\n",
    "The output of the network is now nonlinear, give the **activation function** $\\sigma(x)$. \n",
    "\n",
    "But, the preceptron is nothing more than a logistic regression classifier. The fact that the preceptron could only solve linearly separable problems was pointed out by Minsky and Papert (1969). The failure of the preceptron to learn an **exclusive or (XOR)** function is well known. See for example, Section 6.1 in GBC. \n",
    "\n",
    "Again, this representation is certainly learnable. However, as before, it does not gain us anything over well known logistic regression models."
   ]
  },
  {
   "cell_type": "markdown",
   "metadata": {
    "id": "lcG0jmecks3e"
   },
   "source": [
    "### 2.3 Forward networks - We're gonna need a better representation!\n",
    "\n",
    "The problem with the  perceptron is one of representations. There is no way that this simple network can represent anything but a linearly separable function. To represent more complex functions, we need a more complex network. In more technical terms we need a network with greater **model capacity**. \n",
    "\n",
    "What we need is a network with layers of **hidden nodes**. The figure below shows a simple example of a neural network with one **hidden layer** with two nodes. Since every node (including inputs) is connected to every other node we call this architecture a **fully connected neural network**.\n",
    "\n",
    "\n",
    "<img src=\"img/Hidden.JPG\" alt=\"Drawing\" style=\"width:600px; height:350px\"/>\n",
    "<center>**Figure 2.3  \n",
    "Fully connected neural network with single hidden layer**</center>\n",
    "\n",
    "Let's walk through some aspects of these diagrams. \n",
    "\n",
    "1. The neural network is divided into three layers. The input layer, the hidden layer and the output layer. \n",
    "2. The values in the input layer are multiplied by a weight matrix, $W^1$.\n",
    "3. The nodes in the hidden layer sum their inputs and add a bias term, $b^1$. \n",
    "4. The outputs of the hidden layer nodes are multiplied by a weight vector, $W^2$.\n",
    "5. The output layer sums the inputs and adds another bias term, $b^2$."
   ]
  },
  {
   "cell_type": "markdown",
   "metadata": {
    "id": "6PN4lW0Jks3f"
   },
   "source": [
    "### 2.4 Neural network architectures - Finding representations\n",
    "\n",
    "The representations achievable by neural network with just a single hidden layer  are quite powerful. In fact, Cybenko (1989) showed that such a network with an infinite number of hidden units using sigmoidal activation can approximate any arbitrary function. Hornik (1991) generalized this to apply to any activation function. We call this theorem the **universal approximation theorem**.  \n",
    "\n",
    "A universal approximation theorem may see like a really exciting development; especially if you are a machine intelligence nerd. However, one must be circumspect when viewing such a result. A representation with an infinite number of nodes cannot be learned in any practical sense. Still it is comforting to know that, at least in principle, a representation can be learned for arbitrarily complex problems. \n",
    "\n",
    "While infinitely wide networks with a single layer are unrealistic, we are not limited to one dimension. In fact, depth is typically more effective at creating complex representations rather than width in neural networks. Depth is measured by the count of hidden layers stacked one on top of the other in the network. Hence, the term deep neural networks. \n",
    "\n",
    "The Figure 2.4 below shows the results of an empirical study by Goodfellow, Shlens and Szegedy (2014) of accuracy of the network vs depth. Notice that accuracy increases rapidly with depth until about 8 layers, after which the effect is reduced. \n",
    "\n",
    "\n",
    "<img src=\"img/Accuracy-Layers.JPG\" alt=\"Drawing\" style=\"width:600px; height:350px\"/>\n",
    "<center>Figure 2.4 Empirical results of accuracy vs. number of layers  \n",
    "Diagram from Goodfellow et. al. 2014</center>\n",
    "\n",
    "Another view of the empirical study by Goodfellow et. al. is shown in Figure 2.5 below. In this case accuracy verses number of model parameters is compared for three different network architectures. The deeper network (11 layers) makes more  efficient use of the parameters in terms of improved accuracy. The number of parameters in a layer is approximately the total number of parameters divided by the number of layers. Notice that for the particular case tested convolutional neural networks are more efficient than fully-connected networks. We will discuss convolutional neural networks in a subsequent lesson. \n",
    "\n",
    "Of particular interest is the fact that the fully-connected network and the shallow convolutional neural network appear to be over-fitting as the test accuracy actually decreases as the number of parameters increases. We will discuss the significant problems of over-fitting in neural networks in a subsequent lesson. \n",
    "\n",
    "\n",
    "<img src=\"img/Accuracy-Parameters.JPG\" alt=\"Drawing\" style=\"width:600px; height:350px\"/>\n",
    "<center>**Figure 2.5 Empirical results of accuracy for different network architectures**  \n",
    "Diagram from Goodfellow et. al. 2014</center>\n",
    "\n",
    "**Summary:** Deep networks tend to produce better models, with less tendency to over-fit, for a given level of complexity. "
   ]
  },
  {
   "cell_type": "markdown",
   "metadata": {
    "id": "_W4vBbt1ks3g"
   },
   "source": [
    "### 2.5 Computational graphs\n",
    "\n",
    "There is another way to look at neural nets, computational graphs. A computational graph breaks down the steps of a complex algorithm into steps. \n",
    "\n",
    "Computational graphs provide a way to organize complex computations in an efficient manner. Widely used computational frameworks such as Tensor Flow, CNTK, and Torch all use computational graphs. Organizing computations in a graph allows these platform to minimize memory transfers. In simple terms, the platform can look ahead in the graph and organize data and computational results so as to minimize memory transfers. As a result, such platforms can be significantly faster than, say, Python Numpy. Systems like Numpy require memory transfer before each operation, which typically take more time than the actual computation. \n",
    "\n",
    "The diagram below decomposes the single hidden layer neural network discussed in the previous section into a computational graph. \n",
    "\n",
    "\n",
    "<img src=\"img/CompGraph1.JPG\" alt=\"Drawing\" style=\"width:600px; height:300px\"/>\n",
    "<center>**Figure 2.6  \n",
    "Computational graph for fully connected neural network of Figure 2.3** </center>\n",
    "\n",
    "Let's walk though this graph, step by step.\n",
    "\n",
    "1. The $nX2$ weight tensor, $W^1$, is multiplied by the 1-dimensional input tensor $x \\in\\ R^n$, giving  the result $U^1 \\in\\ R^2$.\n",
    "2. The 1-dimensional bias tensor $b^1 \\in\\ R^2$ is added to $U^1$, giving $U^2 \\in\\ R^2$. \n",
    "2. The activation function $\\sigma_h(x)$ is applied to $U^2$, producing $U^3 \\in\\ R^2$\n",
    "3. The dot product between the weight tensor, $W^2 \\in\\ R^2$ and $U^3$ is computed giving $U^4 \\in\\ R^1$. \n",
    "4. The bias, $b^2 \\in\\ R^1$ is added to $U^4$ giving $U^5 \\in\\ R^1$.\n",
    "5. The output activation function $\\sigma_o(x)$ is applied to $U^4$ giving the output $Y \\in\\ R^1$.\n",
    "\n",
    "As you can see, the computational graph provides a complete specification for the single hidden layer neural network. "
   ]
  },
  {
   "cell_type": "markdown",
   "metadata": {
    "id": "wbu_dd2Bks3g"
   },
   "source": [
    "### 2.6 Activation functions\n",
    "\n",
    "Without a nonlinear activation function, a neural net is just an afine transformation. Afine transformations limit representation to only linearly separable functions. To create more general representations **nonlinear activation functions** are required. \n",
    "\n",
    "In present practice, four types of activation functions are generally used for fully connected networks. \n",
    "\n",
    "1. **Linear** activation is used for the output layer of regression neural networks. \n",
    "2. The **rectilinear** activation function is used for most hidden units. The rectilinear activation function is often referred to as **ReLU**.\n",
    "3. A **leaky rectilinear** activation acts like a ReLU function for positive inputs, but has a small negative bias or leakage for negative input values. The leaky ReLU activation function can improve training for some deep neural networks. \n",
    "3. The **logistic** or **sigmoid** activation function is used for binary classifiers.\n",
    "4. The **softmax** activation function is used for multi-class classifiers. \n",
    "\n",
    "Rectilinear functions are typically used as the activation function for hidden units in neural networks. The rectilinear function is defined at:\n",
    "\n",
    "$$f(x) = max(0, x)$$\n",
    "\n",
    "The rectilinear function is linear for positive responses and zero for responses less than 0.0. Notice that the derivatives of the rectilinear function are not continuous. While this might seem to be a problem, in practice, even gradient-based optimization functions work well with this activation function. \n",
    "\n",
    "The rectilinear function is plotted in the cell below:"
   ]
  },
  {
   "cell_type": "code",
   "execution_count": 2,
   "metadata": {
    "colab": {
     "base_uri": "https://localhost:8080/",
     "height": 404
    },
    "id": "pjfDUFOXks3h",
    "outputId": "f18248cf-de86-4e4b-c220-e9ca45c5cdb5"
   },
   "outputs": [
    {
     "data": {
      "image/png": "[encoded data removed]",
      "text/plain": [
       "<Figure size 576x432 with 1 Axes>"
      ]
     },
     "metadata": {
      "needs_background": "light"
     },
     "output_type": "display_data"
    }
   ],
   "source": [
    "def reclu(x): return(max(0,x))\n",
    "\n",
    "def plot_figs(x,y,title, figsize = (8, 6)):\n",
    "    plt.figure(figsize=figsize).gca() # define axis\n",
    "    sns.set_style(\"darkgrid\")\n",
    "    plt.plot(x, y)\n",
    "    plt.ylim((-0.1,1.1))\n",
    "    plt.title(title)\n",
    "    plt.xlabel('X')\n",
    "    plt.ylabel('Y')\n",
    "    \n",
    "x = np.linspace(-1.0, 1.0, 200)\n",
    "y = [reclu(y) for y in x]\n",
    "plot_figs(x,y,'The Rectilinear Function')    "
   ]
  },
  {
   "cell_type": "markdown",
   "metadata": {
    "id": "mvTJTye7ks3i"
   },
   "source": [
    "Another widely used activation function is the **logistic** or **sigmoid**. The sigmoid is used as the activation for the output layer of a binary classifier. The general sigmoid function can be written as:\n",
    "\n",
    "$$\\sigma(x) = \\frac{L}{1 + e^{-k(x_0-x)}}\\\\\n",
    "where\\\\\n",
    "L = max\\ value\\\\\n",
    "k = slope\\\\\n",
    "x_0 = sigmoid\\ midpoint$$\n",
    "\n",
    "With $L=1$, $k=1$, and $x_0 = 0$, the logistic function becomes: \n",
    "\n",
    "$$\\sigma(x) = \\frac{1}{1 + e^{-x}} = \\frac{e^x}{1+e^x}$$\n",
    "\n",
    "The sigmoid function can asymptotically approach $0$ or $1$, but will never reach these extreme values. However, because of the rapid decrease in the derivative away from $0$ the sigmoid can **saturate** when using gradient-based training. For this reason, the sigmoid is typically not used for hidden layers in neural networks.   \n",
    "\n",
    "When used in a the binary classifier a threshold is set to determine if the result is $0$ or $1$. The threshold can be adjusted to bias the result as desired. \n",
    "\n",
    "The code in the cell below plots the sigmoid function. "
   ]
  },
  {
   "cell_type": "code",
   "execution_count": 3,
   "metadata": {
    "colab": {
     "base_uri": "https://localhost:8080/",
     "height": 404
    },
    "id": "kqAPevfCks3i",
    "outputId": "2ffae7ad-6d65-4d2b-fc92-c44121a548e6",
    "scrolled": false
   },
   "outputs": [
    {
     "data": {
      "image/png": "[encoded data removed]",
      "text/plain": [
       "<Figure size 576x432 with 1 Axes>"
      ]
     },
     "metadata": {},
     "output_type": "display_data"
    }
   ],
   "source": [
    "def sigmoid(x): return exp(x)/(1 + exp(x))\n",
    "\n",
    "x = np.linspace(-8.0, 8.0, 200)\n",
    "y = [sigmoid(y) for y in x]\n",
    "plot_figs(x,y,'The Logistic Function') #, figsize = (5,3))    "
   ]
  },
  {
   "cell_type": "markdown",
   "metadata": {
    "id": "iRYKyIJ_ks3j"
   },
   "source": [
    "The **softmax** function or **normalized exponential function** is used for the output activation function of a multi-class classifiers. The softmax function is the multinomial generalization of the sigmoid or logistic function. The probability of each class $j$ is written as: \n",
    "\n",
    "$$\\sigma(z_j) = \\frac{e^{z_j}}{\\sum_{k=1}^K e^{z_k}}$$\n",
    "\n",
    "The normalization $\\sum_{k=1}^K e^{z_k}$ ensures the sum of probabilities for all classes add to $1.0$. The class selected by the classifier is the class with the largest value of $\\sigma(z_j)$."
   ]
  },
  {
   "cell_type": "markdown",
   "metadata": {
    "id": "3KNZxY9Vks3j"
   },
   "source": [
    "### 2.7 Computational example\n",
    "\n",
    "Now that we have gone though some basic theory for feed-forward networks, it's time try a simple example. You will construct a fully connected network to compute this simple function:\n",
    "\n",
    "$$y = x_1 - x_2$$\n",
    "\n",
    "****\n",
    "**Comment.** You have likely have noticed that this function is linear and can be computed easily without a neural network. Of course, that is not the point. We use a simple function to make the results easy to understand. \n",
    "****\n",
    "\n"
   ]
  },
  {
   "cell_type": "markdown",
   "metadata": {
    "id": "gE8_RXf4ks3k"
   },
   "source": [
    "> **Exercise 5-1:** You will create and test a simple neural network implemented using matrix multiplication with Numpy. The architecture of the neural network is similar to the one shown in Figure 2.3, with 2 input units, 2 hidden units and 1 output unit. There are a total of 6 weights in two tensors. The neural network for this example does not require any bias terms. \n",
    "> 1. As a first step, create test data for 3 possibilities; $x_1 > x_2$, $x_1 = x_2$, and $x_1 <x_2$, and with positive and negative values, or $x = [(2,1), (1,1), (1,2), (0,0), (2,-1), (-1,-1), (-2,1), (-1,-2)]$ as the input tuples. \n",
    "> 2. Directly compute and print the evaluation of the function, $y = x_1 - x_2$, for each tuple.  \n",
    "\n",
    "> **Note:** The network you are asked to construct is simple and all weights must in the set $\\{-1, 1 \\}$. You can take advantage of the symmetry of the function you must approximate to determine these weights by inspection. If you wish, you will find it easy to compute the partial derivatives of the function to be approximated. However, this is not necessary if you carefully inspect the network and consider the responses required. \n"
   ]
  },
  {
   "cell_type": "code",
   "execution_count": 4,
   "metadata": {
    "colab": {
     "base_uri": "https://localhost:8080/"
    },
    "id": "vLQDi2E-ks3k",
    "outputId": "4e30e725-6c08-46be-842a-ffa71b7dc672"
   },
   "outputs": [
    {
     "name": "stdout",
     "output_type": "stream",
     "text": [
      "1\n",
      "0\n",
      "-1\n",
      "0\n",
      "3\n",
      "0\n",
      "-3\n",
      "1\n"
     ]
    }
   ],
   "source": [
    "## Your code goes here\n",
    "x = [(2,1), (1,1), (1,2), (0,0), (2,-1), (-1,-1), (-2,1), (-1,-2)]\n",
    "for x_in in x:\n",
    "    print(x_in[0] - x_in[1])"
   ]
  },
  {
   "cell_type": "markdown",
   "metadata": {
    "id": "3QDDmm6uks3l"
   },
   "source": [
    "> 3. Now that you have the test data you can move to the next step. Determine the values of the $2 \\times 2$ weight tensor between the input layer and the hidden layer (input tensor) and the $2 \\times 1$ weight tensor between the hidden and output layer (output tensor). In the code cells below create as Numpy arrays and print these tensors. *Hint:* Keep in mind that the input tensor must be symmetric, with correct signs on the $\\{-1,1\\}$ weights. Likewise, the output tensor $\\{-1,1\\}$ weights must have the opposite signs.  "
   ]
  },
  {
   "cell_type": "code",
   "execution_count": 5,
   "metadata": {
    "colab": {
     "base_uri": "https://localhost:8080/"
    },
    "id": "OqtMYJJbks3l",
    "outputId": "3682d39d-249f-42a5-aace-dd0536ac53eb"
   },
   "outputs": [
    {
     "name": "stdout",
     "output_type": "stream",
     "text": [
      "[[ 1. -1.]\n",
      " [-1.  1.]]\n"
     ]
    }
   ],
   "source": [
    "## Your code goes here\n",
    "W_1 = np.array([[1.0, -1.0], [-1.0, 1.0]])\n",
    "print(W_1)"
   ]
  },
  {
   "cell_type": "code",
   "execution_count": 6,
   "metadata": {
    "colab": {
     "base_uri": "https://localhost:8080/"
    },
    "id": "EYCapgyfks3m",
    "outputId": "d883ca74-9742-40cd-e43f-87b005906ad9"
   },
   "outputs": [
    {
     "name": "stdout",
     "output_type": "stream",
     "text": [
      "[ 1 -1]\n"
     ]
    }
   ],
   "source": [
    "## Your code goes here\n",
    "W_2 = np.array([1, -1])\n",
    "print(W_2)"
   ]
  },
  {
   "cell_type": "code",
   "execution_count": 7,
   "metadata": {
    "colab": {
     "base_uri": "https://localhost:8080/"
    },
    "id": "9k6WTnGcks3m",
    "outputId": "06c7c87b-5209-4caa-a40b-50acc32a0306"
   },
   "outputs": [
    {
     "name": "stdout",
     "output_type": "stream",
     "text": [
      "(2, 1)\n",
      "[[ 1. -1.]\n",
      " [-1.  1.]]\n",
      "====================\n",
      "[ 1. -1.]\n",
      "====================\n",
      "[1.0, 0]\n",
      "====================\n",
      "[ 1 -1]\n",
      "1.0\n"
     ]
    }
   ],
   "source": [
    "n = x[0]\n",
    "print(n)\n",
    "print(W_1)\n",
    "print(\"=\"*20)  \n",
    "\n",
    "print(np.matmul(x[0], W_1))\n",
    "print(\"=\"*20)  \n",
    "\n",
    "print([reclu(x) for x in np.matmul(x[0], W_1)])\n",
    "print(\"=\"*20)  \n",
    "\n",
    "print(W_2)\n",
    "print(np.matmul(W_2, [reclu(x) for x in np.dot(x[0], W_1)]))"
   ]
  },
  {
   "cell_type": "markdown",
   "metadata": {
    "id": "552sbj8Mks3n"
   },
   "source": [
    "> 4. Now, it is time to compute the results and check them. To create the computational process follow the graph in Figure 2.6, but ignoring the bias terms, $b^1$ and $b^2$. \n",
    "> Create a function, `hidden`, to compute the output of the hidden layer using the formulation with **rectalinear activation**, $\\delta()$:   \n",
    "> $$h = \\delta(W^1 \\cdot x)$$\n",
    "> Create a second function ,`output`, to computes the vector product of the weight vector with the output vector of the hidden layer using a **linear activation**:    \n",
    "> $$o = W^2 \\cdot h$$\n",
    "> 5. Execute the two functions while iterating over the input tuples and verify the output is correct. If not, reconsider the values of your weight tensors.   "
   ]
  },
  {
   "cell_type": "code",
   "execution_count": 8,
   "metadata": {
    "colab": {
     "base_uri": "https://localhost:8080/"
    },
    "id": "DGtiC3pQks3n",
    "outputId": "f358530e-b791-43d4-b0e8-7440410fec6c"
   },
   "outputs": [
    {
     "name": "stdout",
     "output_type": "stream",
     "text": [
      "1.0\n",
      "0\n",
      "-1.0\n",
      "0\n",
      "3.0\n",
      "0\n",
      "-3.0\n",
      "1.0\n"
     ]
    }
   ],
   "source": [
    "## Your code goes here\n",
    "def hidden(x, W):\n",
    "    \"\"\"Computes the output of the hidden layer\"\"\"\n",
    "    h = np.dot(W, x) # product of weights and input vector\n",
    "    return np.array([reclu(x) for x in h]) # apply activation function and return\n",
    "\n",
    "def output(h, W):\n",
    "    \"\"\"Computes the result for the hidden layer\"\"\"\n",
    "    return np.dot(W, h) # dot product of weight vector and input vector\n",
    "    \n",
    "## Run the test cases and check the results     \n",
    "for y in x:\n",
    "        h = hidden(y, W_1)\n",
    "        print(output(h, W_2))"
   ]
  },
  {
   "cell_type": "markdown",
   "metadata": {
    "id": "nxCelXitks3n"
   },
   "source": [
    "> If your results agree with the function created above, congratulations! Your first fully connected neural network passed all the tests!  \n",
    "> **End of exercise**.\n",
    "\n",
    "Notice that even a network to compute a simple function requires 6 weights. You can see that for more complex functions any practical algorithm must learn a large number of weights. The limitations of Numpy would quickly become evident for large scale problems involving hundreds of millions of weights. \n",
    "\n",
    "****\n",
    "**Note:** If you are having difficulty following the Numpy code in the above example, you might want to look at [Scott Shell's Numpy Tutorial](https://engineering.ucsb.edu/~shell/che210d/numpy.pdf)\n",
    "****"
   ]
  },
  {
   "cell_type": "markdown",
   "metadata": {
    "id": "zARaHPPqks3o"
   },
   "source": [
    "> **Exercise 5-2:** You will now construct and test an neural network implementing an [exclusive or function, the XOR](https://en.wikipedia.org/wiki/Exclusive_or). The XOR function outputs a 1 if either input is 1 and the other 0, and a 0 otherwise. The truth table for the XOR function is:   \n",
    "\n",
    "$$\\begin{bmatrix}\n",
    "in_1 & in_2 &  out\\\\         \n",
    "0 & 0 & 0\\\\   \n",
    "1 & 0 & 1\\\\    \n",
    "0 & 1 & 1\\\\    \n",
    "1 & 1 & 0\n",
    "\\end{bmatrix}$$     \n",
    "\n",
    "\n",
    "> You can use the `hidden` and `output` functions you created for the previous exercise with new weight tensors. Make sure you try all 4 possible test cases.  "
   ]
  },
  {
   "cell_type": "code",
   "execution_count": 9,
   "metadata": {
    "colab": {
     "base_uri": "https://localhost:8080/"
    },
    "id": "iU7laFHtks3o",
    "outputId": "7c2fdb7e-4fa3-41ff-d112-a525e5043f0e"
   },
   "outputs": [
    {
     "name": "stdout",
     "output_type": "stream",
     "text": [
      "0\n",
      "1.0\n",
      "1.0\n",
      "0\n"
     ]
    }
   ],
   "source": [
    "x = [(0,0), (1,0), (0,1), (1,1)]\n",
    "\n",
    "W_1 = np.array([[1.0, -1.0], [-1.0, 1.0]])\n",
    "\n",
    "W_2 = np.array([1, 1])\n",
    "\n",
    "## Run the test cases and check the results     \n",
    "for y in x:\n",
    "        h = hidden(y, W_1)\n",
    "        print(output(h, W_2))"
   ]
  },
  {
   "cell_type": "markdown",
   "metadata": {
    "id": "J4ErKFIvks3o"
   },
   "source": [
    "> If your output agrees with the truth table, congratulations! You have solved the XOR problem using nonlinear activation.       \n",
    "> **End of exercise.**"
   ]
  },
  {
   "cell_type": "markdown",
   "metadata": {
    "id": "GSDmqKRIks3o"
   },
   "source": [
    "## 3.0 Learning in neural networks: Backpropagation\n",
    "\n",
    "Now that we have a promising representation, we need to determine if it is trainable. The answer is not only yes we can, but that we can do so in a computationally efficient manner, using a cleaver algorithm known as **backpropagation**. \n",
    "\n",
    "The backpropagation algorithm was developed independently multiple times. The earliest work on this algorithm was by Kelly (1960) in the context of control theory and Bryson (1961) in the context of dynamic programming. Rumelhart, Hinton and Williams (1984) demonstrated empirically that backpropagation can be used to train neural networks. Their paper marks the beginning of the modern history of neural networks, and set off the first wave of enthusiasm. \n",
    "\n",
    "The backpropagation algorithm requires several components. First, we need a **loss function** to measure how well our representation matches the function we are trying to learn. Second, we need a way to propagate changes in the representation through the complex network For this we will use the **chain rule of calculus** to compute **gradients** of the representation. In the general case, this process requires using automatic differentiation methods. \n",
    "\n",
    "The point of backpropagration is to learn the optimal weight for the neural network. The algorithm proceeds iteratively through a series of small steps. Once we have the gradient of the loss function we can update the tensor of weights.\n",
    "\n",
    "$$W_{t+1} = W_t + \\alpha \\nabla_{W} J(W_t) $$  \n",
    "where  \n",
    "$W_t = $ the tensor of weights or model parameters at step $t$.   \n",
    "$\\alpha\\ = $ step size or learning rate.  \n",
    "$J(W) = $ loss function given the weights.  \n",
    "$\\nabla_{W} J(W) = $ gradient of $J$ with respect to the weights $W$.  \n",
    "\n",
    "It should be evident that the back propagation algorithm is a form of gradient decent. The weights are updated in small steps following the gradient of $J(W)$ down hill. \n",
    "\n",
    "Finally, we need a way evaluate the performance of the model. Without evaluation metrics we have no way to compare the performance of a given model, or compare the performance of several models. \n",
    "\n",
    "In the next sections, we will address each of loss functions, gradient computation and performance measurement. "
   ]
  },
  {
   "cell_type": "markdown",
   "metadata": {
    "id": "ciWnUIwzks3p"
   },
   "source": [
    "### 3.1 Loss functions\n",
    "\n",
    "To train a neural network we must have a **loss function**, also known as a **cost function**. In simple terms, the loss function measures the fit of a model to the training data. The lower the loss, the better the fit. \n",
    "\n",
    "To train deep learning models **cross entropy** is often used as a loss function. This is an information theoretic measure of model fit. We can understand cross entropy as follows. \n",
    "\n",
    "First define **Shannon entropy** as:\n",
    "\n",
    "$$\\mathbb{H}(I) = E[I(X)] = E[-ln_b(P(X))] = - \\sum_{i=1}^n P(x_i) ln_b(P(x_i)$$  \n",
    "Where:  \n",
    "$E[X] = $ the expectation of $X$.  \n",
    "$I(X) = $ the information content of $X$.   \n",
    "$P(X) = $ probability of $X$.  \n",
    "$b = $ base of the logarithm.    \n",
    "\n",
    "This rather abstract formula gives us a way to compute the expected information content of a set of values $X$. The more likely (higher probability) of $X$ the less informative it is. \n",
    "\n",
    "To create a loss function from the definition of Shannon entropy we start with the **Kullback-Leibler divergence (KL divergence)** or **relative entropy**. The KL divergence is an information theoretic measure of the difference between two distributions, $P(X)$ and $Q(X)$.\n",
    "\n",
    "$$\\mathbb{D}_{KL}(P \\parallel Q) = - \\sum_{i=1}^n p(x_i)\\ ln_b \\frac{p(x_i)}{q(x_i)}$$\n",
    "\n",
    "Ideally, in the case of training a machine learning model we want a distribution $Q(X)$, which is identical to the actual data distribution $P(X)$. \n",
    "\n",
    "But, you may say, if we could know $P(X)$ why compute $Q(X)$ at all? Fortunately, we do not have to. We can rewrite the KL divergence as:\n",
    "\n",
    "$$\\mathbb{D}_{KL}(P \\parallel Q) = \\sum_{i=1}^n p(x_i)\\ ln_b p(x_i) - \\sum_{i=1}^n p(x_i)\\ ln_b q(x_i)$$\n",
    "\n",
    "Since $P(X)$ is fixed and we wish to find $Q(X)$ when we train our model, we can minimize the term on the right, which is the **cross entropy** defined as:\n",
    "\n",
    "$$\\mathbb{H}(P,Q) = - \\sum_{i=1}^n p(x_i)\\ ln_b q(x_i)$$\n",
    "\n",
    "From the formulation of KL divergence above you can see the following.\n",
    "\n",
    "$$\\mathbb{D}_{KL}(P \\parallel Q) = \\mathbb{H}(P) + \\mathbb{H}(P,Q)\\\\\n",
    "\\mathbb{D}_{KL}(P \\parallel Q) = Entropy(P) + Cross\\ Entropy(P,Q)$$\n",
    "\n",
    "Thus, we can minimize divergence by minimizing cross entropy. This idea is both intuitive and computationally attractive. The closer the estimated distribution $q(X)$ is to the distribution of the true underling process $p(X)$, the lower the cross entropy and the lower the KL divergence. \n",
    "\n",
    "In general we will not know $p(X)$. In fact, if we did, why would we need to solve a training problem? So, we can use the following approximation.\n",
    "\n",
    "$$\\mathbb{H}(P,Q) = - \\frac{1}{N} \\sum_{i=1}^n ln_b q(x_i)$$\n",
    "\n",
    "You may notice, that this approximation, using the average log likelihood, is equivalent to a maximum likelihood estimator (MLE). "
   ]
  },
  {
   "cell_type": "markdown",
   "metadata": {
    "id": "Wn8DQNi4ks3p"
   },
   "source": [
    "Let's look at a specific case of a model with Gaussian likelihood. What is the cross entropy? We can start by thinking about the definition of likelihood. \n",
    "\n",
    "$$p(data|model) = p(data|f(\\theta)) = p(x_i|f(\\hat{\\mu},\\sigma))= \\frac{1}{2 \\pi \\sigma^2} e^{\\frac{-(x_i - \\hat{\\mu})^2}{2 \\sigma^2}}$$\n",
    "\n",
    "We take the negative logarithm of this likelihood model. \n",
    "\n",
    "$$-log\\big(p(data|model) \\big) = - \\frac{1}{2}\\big( log( 2 \\pi \\sigma^2) + \\frac{(x_i - \\hat{\\mu})^2}{2 \\sigma^2} \\big)$$\n",
    "\n",
    "Now, the first term on the right is a constant, as is the denominator of the second term if we assume known variance. Since our goal is to minimize cross entropy, we can eliminate these quantities and be left with just the following.\n",
    "\n",
    "$$-(x_i - \\hat{\\mu})^2$$\n",
    "\n",
    "This is one issue we need to deal with. Our formulation of cross entropy involves the unknown true distribution of the underling process $p(X)$. However, since $p(x_i)$ is fixed but unknown we can just write the following.\n",
    "\n",
    "$$min \\big( \\mathbb{H}(P,Q) \\big) \\propto argmin_{\\mu} \\big( - \\sum_{i=1}^n (x_i - \\hat{\\mu})^2 \\big)$$\n",
    "\n",
    "This is just the definition of a Maximum Likelihood Estimator (MLE) for the least squares problem! In fact, since the cross entropy is computed using the negative log likelihood, it will always be minimized by the MLE. \n",
    "\n",
    "You can see another example of [cross-entropy error function and logistic regression](https://en.wikipedia.org/wiki/Cross_entropy)."
   ]
  },
  {
   "cell_type": "markdown",
   "metadata": {
    "id": "mwmoKgRRks3q"
   },
   "source": [
    "### 3.2 Computing Loss functions\n",
    "\n",
    "The loss function is used to train the model. Therefore the loss function must be computed in an efficient manner. \n",
    "\n",
    "Given the number of parameters in deep neural nets over-fitting is inevitable. Therefore some regularization is required. We will discuss regularization in greater depth in another lesson. For now, we will just use the following regularized form.\n",
    "\n",
    "$$\\mathbb{H}(P,Q) = J(\\theta) = - \\frac{1}{N}\\sum_{i=1}^n ln_b q(x_i|\\theta) + \\lambda ||\\theta||^2\\\\ \n",
    "where\\\\\n",
    "- \\frac{1}{N}\\sum_{i=1}^n ln_b q(x_i|\\theta) = J_{MLE}(\\theta)\\\\\n",
    "||\\theta||^2 = L^2\\ norm\\ regularization\\ term$$\n",
    "\n",
    "To minimize $J(\\theta)$ in this form $\\theta$ must be chosen to keep $||\\theta||^2$ small while minimizing the negative log likelihood of $q(x_i|\\theta)$.\n",
    "\n",
    "Let's  consider how we would compute this form of the lost function. The computational graph shown below illustrates the computational path for the regularize d loss function. For simplicity, no bias terms are considered.\n",
    "\n",
    "<img src=\"img/CompGraph2.jpg\" alt=\"Drawing\" style=\"width:600px; height:300px\"/>\n",
    "<center>Figure 3.1  \n",
    "Computational graph for computing loss of fully connected neural network of Figure 2.3 </center>\n",
    "\n",
    "\n"
   ]
  },
  {
   "cell_type": "markdown",
   "metadata": {
    "id": "QlRDbxk8ks3q"
   },
   "source": [
    "### 3.3 Chain rule of calculus\n",
    "\n",
    "Key to the back propagation algorithm is the chain rule of calculus; not to be confused with the chain rule of probability. The chain rule allows us to back propagate gradients though an arbitrarily complex graph of functions. \n",
    "\n",
    "Now, suppose there is a function $y = g(x)$, and another function $z = f(y) = f(g(x))$. How do we compute the derivative of $z$ with respect to $x$? Applying the chain rule we get: \n",
    "\n",
    "$$\\frac{dz}{dx} = \\frac{dz}{dy}\\frac{dy}{dx}$$\n",
    "\n",
    "Consider $x \\in R^M$ $g(x) \\Rightarrow R^M$ and $ f(y) \\Rightarrow z \\in R$. The chain rule becomes:\n",
    "\n",
    "$$\\frac{\\partial z}{\\partial x} = \\sum_{j \\in M} \\frac{\\partial z}{\\partial y_j}\\frac{\\partial y_j}{\\partial x_i}$$\n",
    "\n",
    "Which we can rewrite as  \n",
    "\n",
    "$$\\nabla_{x}z = \\Big( \\frac{\\partial x}{\\partial y} \\Big)^T \\nabla_{y}z$$"
   ]
  },
  {
   "cell_type": "markdown",
   "metadata": {
    "id": "3G4UddfEks3q"
   },
   "source": [
    "Here, $\\frac{\\partial x}{\\partial y}$ is the $n x m$ **Jacobian matrix** of partial derivatives. The Jacobian is multiplied by the gradient with respect to $y$, $\\nabla_{y}z$. You can think of the Jacobian as a transformation for a gradient with respect to $y$ to what we really want, the gradient with respect to $z$."
   ]
  },
  {
   "cell_type": "markdown",
   "metadata": {
    "id": "XSqwrgSNks3r"
   },
   "source": [
    "### 3.4 Example of finding a gradient. \n",
    "\n",
    "Let's work out backpropagation for a very simple neural network with a just an input layer and an output layer. This neural network, including the loss function, is shown in Figure 3.2 below. This network has been highly simplified. There are only three layers, input layer, a two unit hidden layer with no bias terms, and a single unit output layer. There are only two weight tensors for this network. Further, the hidden units use rectilinear activation and the output unit uses linear activation. These activation functions have simple partial derivatives.  \n",
    "\n",
    "<img src=\"img/LossGraph.jpg\" alt=\"Drawing\" style=\"width:600px; height:300px\"/>\n",
    "<center>Figure 3.2 \n",
    "Simple single layer neural network with loss function </center>\n",
    "\n",
    "To analyze this network we will refer to the computational graph shown in Figure 3.1 above. \n",
    "\n",
    "First, we need to work out the forward propagation relationships. We can compute the outputs of the hidden layer as follows.\n",
    "\n",
    "$$S_{\\{1,2\\}} = \\sigma_h \\big( W^1 \\cdot X_{\\{1,2\\}} \\big) = \\sigma \\big( \\sum_j W^1_{i,j} x_j \\big)$$  \n",
    "\n",
    "In the same way, the result from the output layer can be computed as follows, since the activation function for this layer is linear. \n",
    "\n",
    "$$S_3 = W^2 \\cdot S_{\\{1,2\\}} = \\sum_i W^2_i \\sigma \\big( \\sum_j W^1_{i,j} x_j \\big)$$"
   ]
  },
  {
   "cell_type": "markdown",
   "metadata": {
    "id": "7DP_gxUAks3r"
   },
   "source": [
    "To perform backpropagation, we need fill out the gradient vector by computing $\\frac{\\partial J(W)}{\\partial W}$ for each weight in the model. \n",
    "\n",
    "$$\\frac{\\partial J(W)}{\\partial W} = \n",
    "\\begin{bmatrix} \n",
    "\\frac{\\partial J(W)}{\\partial W^2_{11}} \\\\\n",
    "\\frac{\\partial J(W)}{\\partial W^2_{12}} \\\\\n",
    "\\frac{\\partial J(W)}{\\partial W^2_{21}} \\\\\n",
    "\\frac{\\partial J(W)}{\\partial W^2_{22}} \\\\\n",
    "\\frac{\\partial J(W)}{\\partial W^1_{1}} \\\\\n",
    "\\frac{\\partial J(W)}{\\partial W^1_{2}}\n",
    "\\end{bmatrix}$$"
   ]
  },
  {
   "cell_type": "markdown",
   "metadata": {
    "id": "LyY5kv7Qks3s"
   },
   "source": [
    "To keep things simple in this example we will just use a non-normalized squared error loss function. This is just the MLE estimator (without normalization) for a Gaussian distribution. \n",
    "\n",
    "$$J(W) = - \\frac{1}{2} \\sum_{l=1}^n (y_l - S_{3,l})^2 $$\n",
    "\n",
    "Where:  \n",
    "$y_k = $ the label for the lth case.     \n",
    "$\\hat{y_k} = S_{3,k} =$ the output of the network for the lth case. \n",
    "\n",
    "We want to compute the gradients with respect to the input and output tensors:\n",
    "\n",
    "$$\\frac{\\partial J(W)}{\\partial W^1}, \\ \\frac{\\partial J(W)}{\\partial W^2}$$"
   ]
  },
  {
   "cell_type": "markdown",
   "metadata": {
    "id": "d6Y-mDGdks3s"
   },
   "source": [
    "Let's start with the easier case of the partial derivatives with respect to the output tensor. We can apply the chain rule as follows:\n",
    "\n",
    "$$\\frac{\\partial J(W)}{\\partial W^2_k} = \\frac{\\partial  J(W)}{\\partial S_{3,k}} \\frac{\\partial S_{3,k}}{\\partial W^2_k}$$\n",
    "\n",
    "The first partial derivative of the chain is:\n",
    "\n",
    "$$\\frac{\\partial J(W)}{\\partial S_{3,k}} = \\frac{\\partial - \\frac{1}{2} (y_k - S_{3,k})^2} {\\partial S_{3,k}} = y_k - S_{3,k} $$\n",
    "\n",
    "And, the partial derivative of the second partial derivative in the chain, given the linear activation of the output unit:\n",
    "\n",
    "$$\\frac{\\partial S_{3,k}}{\\partial W^2_k} = \\frac{\\partial W^2_k S_{j,k}}{\\partial W^2_k}  = S_{j,l}, \\ j \\in \\{1,2\\}$$\n",
    "\n",
    "Multiplying the two components of the chain gives us:\n",
    "\n",
    "$$\\frac{\\partial J(W)}{\\partial W^2_k} = S_{j,k} (y_k - S_{3,k}), \\ j \\in \\{1,2\\} $$"
   ]
  },
  {
   "cell_type": "markdown",
   "metadata": {
    "id": "63dSCj4dks3t"
   },
   "source": [
    "The partial derivatives with respect to the input tensor are a bit more complicated. To apply the chain rule we must work backwards from the loss function. This gives the following chain:\n",
    "\n",
    "$$\\frac{\\partial J(W)}{\\partial W^1_{i,j}} =  \\frac{\\partial J(W)}{\\partial S_{3}} \\frac{\\partial S_{3}}{\\partial S_{j}} \\frac{\\partial S_{j}}{\\partial W^1_{i,j}}$$\n",
    "\n",
    "First, we find the right most partial derivative in our chain:\n",
    "\n",
    "\\begin{equation}\n",
    "\\frac{\\partial S_j}{\\partial W^1_{i,j}} = \n",
    "\\begin{cases}\n",
    "     \\frac {\\partial W^1_{i,j} x_{i,k}}{\\partial W^1_{i,j}}, & \\text{if $S_j>0$} \\\\\n",
    "    0, & \\text{otherwise}\n",
    "  \\end{cases}\n",
    "\\end{equation}\n",
    "\n",
    "Which given the ReLU activation results in:\n",
    "\n",
    "\\begin{equation}\n",
    "\\frac{\\partial S_j}{\\partial W^1_{i,j}} = \n",
    "\\begin{cases}\n",
    "    1, & \\text{if $S_j>0$}  \\\\\n",
    "    0, & \\text{otherwise}\n",
    "  \\end{cases}\n",
    "\\end{equation}\n",
    "\n",
    "\n",
    "The middle partial derivative must account for the nonlinearity:\n",
    "\n",
    "$$\\frac{\\partial S_{3}}{\\partial S_{j}} = W^2_j$$\n",
    "\n",
    "We have already computed $\\frac{\\partial J(W)}{\\partial S_{3}}$. Multiplying all three partial derivatives we find:\n",
    "\n",
    "\\begin{equation}\n",
    "\\frac{\\partial J(W)}{\\partial W^1_{i,j}} = \n",
    "\\begin{cases}\n",
    "    (y_k - S_{3,k}) W^2_j, & \\text{if $S_j>0$} \\\\\n",
    "    0, & \\text{otherwise}\n",
    "  \\end{cases}\n",
    "\\end{equation}\n",
    "\n",
    "Where $S_3$ and $S_{\\{1,2 \\}}$ are computed using the relationships given above. \n",
    "\n",
    "A more detailed, but still digestable example of computing gradients for backpropagation can be found in a blog post by [Manfred Zaharauskas](http://blog.manfredas.com/backpropagation-tutorial/), among many other places. "
   ]
  },
  {
   "cell_type": "markdown",
   "metadata": {
    "id": "VfrmwYBxks3t"
   },
   "source": [
    "## 4.0 Creating a Model With Keras      \n",
    "\n",
    "You will now create and test a first deep learning classifier model for the MNIST dataset using Keras. The fully connected model has one hidden layer.            "
   ]
  },
  {
   "cell_type": "markdown",
   "metadata": {
    "id": "HBFizn3-ks3t"
   },
   "source": [
    "### 4.1 Preparing the Dataset      \n",
    "\n",
    "You have already worked with the MNIST dataset. To load these data and prepare them for the Keras model execute the code in the cell below.      "
   ]
  },
  {
   "cell_type": "code",
   "execution_count": 25,
   "metadata": {
    "colab": {
     "base_uri": "https://localhost:8080/"
    },
    "id": "0OUfMk5yks3u",
    "outputId": "2b831c75-0e6a-4835-ac0b-127c375e9676"
   },
   "outputs": [
    {
     "name": "stdout",
     "output_type": "stream",
     "text": [
      "(60000, 784)\n",
      "(10000, 784)\n",
      "float32\n"
     ]
    },
    {
     "data": {
      "text/plain": [
       "array([0, 1, 2, 3, 4, 5, 6, 7, 8, 9], dtype=uint8)"
      ]
     },
     "execution_count": 25,
     "metadata": {},
     "output_type": "execute_result"
    }
   ],
   "source": [
    "(train_images, train_labels), (test_images, test_labels) = mnist.load_data()\n",
    "train_images = train_images.reshape((60000, 28*28)).astype('float32')/255\n",
    "print(train_images.shape)\n",
    "test_images = test_images.reshape((10000, 28*28)).astype('float32')/255\n",
    "print(test_images.shape)\n",
    "\n",
    "print(train_images.dtype)\n",
    "\n",
    "np.unique(train_labels)"
   ]
  },
  {
   "cell_type": "code",
   "execution_count": 25,
   "metadata": {
    "id": "am_K7UaYks3u"
   },
   "outputs": [],
   "source": []
  },
  {
   "cell_type": "code",
   "execution_count": 25,
   "metadata": {
    "id": "OMyfCDRZks3u"
   },
   "outputs": [],
   "source": []
  },
  {
   "cell_type": "markdown",
   "metadata": {
    "id": "EcqHoXJLks3u"
   },
   "source": [
    "There is one more preprocessing step. The labels need to be [**one hot encoded**](https://www.kaggle.com/dansbecker/using-categorical-data-with-one-hot-encoding). One hot encoding transforms an $N$ level categorical variable into $N$ binary columns. One column represents one category. A 1 or binary true value is encoded in the column of a given category with the other columns coded as 0 or false.          \n",
    "\n",
    "> **Exercise 5-3:** You will now one hot encoded the label vectors of the training and test data. Use the [keras.utils.np_utils.to_categorical](https://www.tensorflow.org/api_docs/python/tf/keras/utils/to_categorical) function to create the one hot encoded labels. Print the first 10 rows of the training labels. You will need to set options to display all columns.   "
   ]
  },
  {
   "cell_type": "code",
   "execution_count": 26,
   "metadata": {
    "colab": {
     "base_uri": "https://localhost:8080/"
    },
    "id": "ZrKVLjS9ks3u",
    "outputId": "d0d27d7d-12b8-4170-8652-f5c87c36af73",
    "scrolled": true
   },
   "outputs": [
    {
     "name": "stdout",
     "output_type": "stream",
     "text": [
      "[[0. 0. 0. 0. 0. 1. 0. 0. 0. 0.]\n",
      " [1. 0. 0. 0. 0. 0. 0. 0. 0. 0.]\n",
      " [0. 0. 0. 0. 1. 0. 0. 0. 0. 0.]\n",
      " [0. 1. 0. 0. 0. 0. 0. 0. 0. 0.]\n",
      " [0. 0. 0. 0. 0. 0. 0. 0. 0. 1.]\n",
      " [0. 0. 1. 0. 0. 0. 0. 0. 0. 0.]\n",
      " [0. 1. 0. 0. 0. 0. 0. 0. 0. 0.]\n",
      " [0. 0. 0. 1. 0. 0. 0. 0. 0. 0.]\n",
      " [0. 1. 0. 0. 0. 0. 0. 0. 0. 0.]\n",
      " [0. 0. 0. 0. 1. 0. 0. 0. 0. 0.]]\n"
     ]
    }
   ],
   "source": [
    "## Put your code here\n",
    "train_labels = ku.to_categorical(train_labels)\n",
    "test_labels = ku.to_categorical(test_labels)\n",
    "with np.printoptions(threshold=np.inf):\n",
    "    print(train_labels[:10, ])"
   ]
  },
  {
   "cell_type": "markdown",
   "metadata": {
    "id": "usjDAEI-ks3u"
   },
   "source": [
    "> Examine the printed one hot encoded labels. Does the number of columns correspond to the number of label categories and why is this expected?   \n",
    "> **End of exercise.**"
   ]
  },
  {
   "cell_type": "markdown",
   "metadata": {
    "id": "I-8n5z9Uks3v"
   },
   "source": [
    "> **Answer:**     \n",
    "Given that the labels are integers  ranging from 0-9, it makes sense that there are 10 columns. One for each digit."
   ]
  },
  {
   "cell_type": "markdown",
   "metadata": {
    "id": "LWj74Bg0ks3v"
   },
   "source": [
    "## 4.2 Defining and Executing the Deep Learning Model\n",
    "\n",
    "It is now time to define the Keras neural network model. This model uses the [Keras **Sequential** class](https://keras.io/guides/sequential_model/). The model is constructed by **adding dense layers** with the `add` method. Hidden and output layers are specified by creating instances of the [Dense layer class](https://keras.io/api/layers/core_layers/dense/). An input data shape must be specified only for the input layer.         "
   ]
  },
  {
   "cell_type": "markdown",
   "metadata": {
    "id": "L_UodUxuks3v"
   },
   "source": [
    "> **Exercise 5-4:** You will now specify, [compile and fit](https://keras.io/api/models/model_training_apis/) the neural network model by the following steps:     \n",
    "> 1. Define the sequential model by instantiating a model object using [`models.Sequential`](https://keras.io/guides/sequential_model/). Name your model `nn`. Then add layers:  \n",
    ">   - Add a [dense input layer](https://keras.io/api/layers/core_layers/dense/) with $28 \\times 28$ hidden units, rectalinear (`relu`) activation and `input_shape=(28*28, )`.   \n",
    ">   - Add a dense hidden layer with 512 hidden units and rectalinear (`relu`) activation.     \n",
    ">   - Add a dense output output layer with `activation='softmax'`.     \n",
    "> 2. [Compile](https://keras.io/api/models/model_training_apis/) your model with the following arguments; `optimizer='rmsprop', loss='categorical_crossentropy', metrics=['accuracy']`. We will discuss optimizers in another lesson. \n",
    "> 3. Print a summary of the model with the `summary()` method. \n",
    "> 3. Fit your model, using the [fit()](https://keras.io/api/models/model_training_apis/) method, with the training images, training labels, and arguments; `epochs=5, batch_size=128`.   "
   ]
  },
  {
   "cell_type": "code",
   "execution_count": 12,
   "metadata": {
    "id": "j1zsEsELks3x"
   },
   "outputs": [],
   "source": [
    "# Note to myself about naming conventions in the document\n",
    "\n",
    "# import tensorflow as tf\n",
    "# from keras.datasets import mnist\n",
    "# import keras.utils.np_utils as ku\n",
    "# import keras.models as models\n",
    "# import keras.layers as layers\n",
    "# from keras import regularizers\n",
    "# import numpy as np\n",
    "# from math import exp\n",
    "# import matplotlib.pyplot as plt\n",
    "# import seaborn as sns\n",
    "\n",
    "# %matplotlib inline"
   ]
  },
  {
   "cell_type": "code",
   "execution_count": 20,
   "metadata": {
    "id": "BvTdAMNFks3x"
   },
   "outputs": [],
   "source": [
    "## Your code goes here\n",
    "nn = models.Sequential()\n",
    "nn.add(layers.Dense(28*28, input_shape=(28*28, ), activation='relu'))\n",
    "nn.add(layers.Dense(512, activation='relu'))\n",
    "nn.add(layers.Dense(10, activation='softmax'))"
   ]
  },
  {
   "cell_type": "code",
   "execution_count": 21,
   "metadata": {
    "colab": {
     "base_uri": "https://localhost:8080/"
    },
    "id": "AZtCmxNcks3x",
    "outputId": "d0bb200b-3363-44ce-8f66-4ad3e1461796"
   },
   "outputs": [
    {
     "name": "stdout",
     "output_type": "stream",
     "text": [
      "Model: \"sequential_2\"\n",
      "_________________________________________________________________\n",
      " Layer (type)                Output Shape              Param #   \n",
      "=================================================================\n",
      " dense_4 (Dense)             (None, 784)               615440    \n",
      "                                                                 \n",
      " dense_5 (Dense)             (None, 512)               401920    \n",
      "                                                                 \n",
      " dense_6 (Dense)             (None, 10)                5130      \n",
      "                                                                 \n",
      "=================================================================\n",
      "Total params: 1,022,490\n",
      "Trainable params: 1,022,490\n",
      "Non-trainable params: 0\n",
      "_________________________________________________________________\n"
     ]
    }
   ],
   "source": [
    "## Your code goes here\n",
    "nn.compile(optimizer=\"rmsprop\", loss='categorical_crossentropy', metrics=['accuracy'])\n",
    "nn.summary()"
   ]
  },
  {
   "cell_type": "code",
   "execution_count": 22,
   "metadata": {
    "colab": {
     "base_uri": "https://localhost:8080/"
    },
    "id": "ewZchRxGks3x",
    "outputId": "ce70620a-9ae6-46b6-c5e4-368b7ab87508"
   },
   "outputs": [
    {
     "name": "stdout",
     "output_type": "stream",
     "text": [
      "Epoch 1/5\n",
      "469/469 [==============================] - 16s 33ms/step - loss: 0.2233 - accuracy: 0.9303\n",
      "Epoch 2/5\n",
      "469/469 [==============================] - 14s 30ms/step - loss: 0.0806 - accuracy: 0.9752\n",
      "Epoch 3/5\n",
      "469/469 [==============================] - 16s 33ms/step - loss: 0.0508 - accuracy: 0.9838\n",
      "Epoch 4/5\n",
      "469/469 [==============================] - 13s 28ms/step - loss: 0.0353 - accuracy: 0.9887\n",
      "Epoch 5/5\n",
      "469/469 [==============================] - 13s 28ms/step - loss: 0.0236 - accuracy: 0.9924\n"
     ]
    },
    {
     "data": {
      "text/plain": [
       "<keras.callbacks.History at 0x7fc011ac3250>"
      ]
     },
     "execution_count": 22,
     "metadata": {},
     "output_type": "execute_result"
    }
   ],
   "source": [
    "## Your code goes here\n",
    "nn.fit(train_images, train_labels, epochs=5, batch_size=128)"
   ]
  },
  {
   "cell_type": "markdown",
   "metadata": {
    "id": "Djnx7F96ks3y"
   },
   "source": [
    "> Answer these questions:  \n",
    "> 1. Why is the `categorical_crossentropy` the good choice loss function and `softmax` the correct choice for output activation for this model? \n",
    "> 2. Considering the number of training samples, and number of trainable model parameters, where do you think this model might lie along the bias-variance trade-off spectrum?   \n",
    "> 2. Examine the evolution of the loss function and accuracy. What do these figures tell you about learning for this model?  \n",
    "> **End or exercise.**"
   ]
  },
  {
   "cell_type": "markdown",
   "metadata": {
    "id": "jJiClxgrks3z"
   },
   "source": [
    "> **Answers:**     \n",
    "> 1.   Categorical_Crossentropy makes sense as a loss function because we are effectively computing 10 seaparate binary classifiers and categorical_crossentropy evaluates whether two streams of binaries are from the same distribution.  Softmax scales the final results so that the probabilities of each individual category sum to one, thus ensuring we have relative probabilities that make sense.\n",
    "> 2.   The training sample is moderately sized but there are a lot of trainable parameters. Given this \"degree of freedom\" issue, I would say that we are closer to the \"variance\" side of the bias-variance tradoff (i.e. we are more likely to overfit). \n",
    "> 3.    The difference between the first and second epic saw the largest increase in accuracy and decrease in the loss function. This is telling me that all subsuquent epochs were less useful for prediction and may indeed be leading to the overfitting issue."
   ]
  },
  {
   "cell_type": "markdown",
   "metadata": {
    "id": "rVZdnNFOks3z"
   },
   "source": [
    "### 4.3 Performance Metrics\n",
    "\n",
    "Now that we have the components for training a basic neural network in place we need a way to evaluate its performance. It turns out, there is nothing special about evaluation of neural network models as opposed to other machine learning models. For regression models, one typically use the standard metrics such as root mean square error (RMSE), mean absolute error (MAE). For classification models, one also typically uses the standard metrics including the confusion matrix, accuracy, precision and recall. The [Keras metrics package](https://keras.io/api/metrics/) provides numerous methods for model evaluation. \n",
    "\n",
    "Execute the code in the cell below to compute and display performance metrics for your model based on the test dataset. "
   ]
  },
  {
   "cell_type": "code",
   "execution_count": 27,
   "metadata": {
    "colab": {
     "base_uri": "https://localhost:8080/"
    },
    "id": "usG5ggPcks3z",
    "outputId": "70a2baa5-bfb6-41fa-83a5-87eb25e4795b"
   },
   "outputs": [
    {
     "name": "stdout",
     "output_type": "stream",
     "text": [
      "313/313 [==============================] - 3s 8ms/step - loss: 0.0752 - accuracy: 0.9809\n",
      "Test accuracy = 0.981   Test loss = 0.075\n"
     ]
    }
   ],
   "source": [
    "test_loss, test_accuracy = nn.evaluate(test_images, test_labels)\n",
    "print(\"Test accuracy = {0:.3f}   Test loss = {1:.3f}\".format(test_accuracy, test_loss))"
   ]
  },
  {
   "cell_type": "markdown",
   "metadata": {
    "id": "bc9TmA0yks3z"
   },
   "source": [
    "> **Exercise 5-5:** Compare the results of the evaluation with the same metrics achieved during model training. What does the difference tell you about the generalization for this model?  "
   ]
  },
  {
   "cell_type": "markdown",
   "metadata": {
    "id": "Hmx3jepEks3z"
   },
   "source": [
    "> **Answer:**    \n",
    "The model accuracy decreased by about 1 percentage point, to 0.98. This represents slightly less than a 1% drop in accuracy. This is telling me that the model is likely to generalize well."
   ]
  },
  {
   "cell_type": "markdown",
   "metadata": {
    "id": "-CG5MERGks3z"
   },
   "source": [
    "## 5.0 Using Training History   \n",
    "\n",
    "The Keras model `fit` method creates a [TensorFlow history object using callbacks](https://www.tensorflow.org/api_docs/python/tf/keras/callbacks/History). The information contained in the history object can be very useful in understanding model training; what is working and what is not.         "
   ]
  },
  {
   "cell_type": "markdown",
   "metadata": {
    "id": "NYWgmYw6ks30"
   },
   "source": [
    "> **Exercise 5-6:** You will now re-train your model while capturing a history. To retrain a model you must re-compile it first to create a fresh model object. Training an existing model object will continue the training of that object. This property of Keras models can be most useful for improving existing models when new training data becomes available. Do the following:      \n",
    "> 1. Compile the existing model using the same arguments as before.     \n",
    "> 2. Fit the model as before, but for 10 epochs and with an additional argument; `validation_data=(test_images, test_labels)`. Assign the results to a variable, `history_nn`.   \n",
    "> 3. Execute the code in the next two cells to display charts of training and test loss and accuracy.     "
   ]
  },
  {
   "cell_type": "code",
   "execution_count": 28,
   "metadata": {
    "colab": {
     "base_uri": "https://localhost:8080/"
    },
    "id": "7CdjMx1mks30",
    "outputId": "d3b11f49-e7c7-47a0-afe5-004425168097"
   },
   "outputs": [
    {
     "name": "stdout",
     "output_type": "stream",
     "text": [
      "Model: \"sequential_2\"\n",
      "_________________________________________________________________\n",
      " Layer (type)                Output Shape              Param #   \n",
      "=================================================================\n",
      " dense_4 (Dense)             (None, 784)               615440    \n",
      "                                                                 \n",
      " dense_5 (Dense)             (None, 512)               401920    \n",
      "                                                                 \n",
      " dense_6 (Dense)             (None, 10)                5130      \n",
      "                                                                 \n",
      "=================================================================\n",
      "Total params: 1,022,490\n",
      "Trainable params: 1,022,490\n",
      "Non-trainable params: 0\n",
      "_________________________________________________________________\n",
      "Epoch 1/10\n",
      "469/469 [==============================] - 15s 30ms/step - loss: 0.0187 - accuracy: 0.9940 - val_loss: 0.0727 - val_accuracy: 0.9818\n",
      "Epoch 2/10\n",
      "469/469 [==============================] - 14s 29ms/step - loss: 0.0140 - accuracy: 0.9956 - val_loss: 0.0762 - val_accuracy: 0.9825\n",
      "Epoch 3/10\n",
      "469/469 [==============================] - 14s 29ms/step - loss: 0.0108 - accuracy: 0.9963 - val_loss: 0.0813 - val_accuracy: 0.9818\n",
      "Epoch 4/10\n",
      "469/469 [==============================] - 14s 29ms/step - loss: 0.0075 - accuracy: 0.9974 - val_loss: 0.0712 - val_accuracy: 0.9841\n",
      "Epoch 5/10\n",
      "469/469 [==============================] - 14s 29ms/step - loss: 0.0062 - accuracy: 0.9981 - val_loss: 0.0943 - val_accuracy: 0.9813\n",
      "Epoch 6/10\n",
      "469/469 [==============================] - 13s 29ms/step - loss: 0.0052 - accuracy: 0.9982 - val_loss: 0.0753 - val_accuracy: 0.9848\n",
      "Epoch 7/10\n",
      "469/469 [==============================] - 15s 31ms/step - loss: 0.0031 - accuracy: 0.9989 - val_loss: 0.0862 - val_accuracy: 0.9844\n",
      "Epoch 8/10\n",
      "469/469 [==============================] - 15s 31ms/step - loss: 0.0020 - accuracy: 0.9994 - val_loss: 0.0867 - val_accuracy: 0.9846\n",
      "Epoch 9/10\n",
      "469/469 [==============================] - 14s 31ms/step - loss: 0.0011 - accuracy: 0.9997 - val_loss: 0.0781 - val_accuracy: 0.9852\n",
      "Epoch 10/10\n",
      "469/469 [==============================] - 14s 29ms/step - loss: 2.8448e-04 - accuracy: 0.9999 - val_loss: 0.0724 - val_accuracy: 0.9862\n"
     ]
    }
   ],
   "source": [
    "## Your code goes here\n",
    "nn.compile(optimizer=\"rmsprop\", loss='categorical_crossentropy', metrics=['accuracy'])\n",
    "nn.summary()\n",
    "\n",
    "history_nn = nn.fit(train_images, train_labels, epochs=10, batch_size=128, validation_data=(test_images, test_labels))\n",
    "\n"
   ]
  },
  {
   "cell_type": "code",
   "execution_count": 29,
   "metadata": {
    "colab": {
     "base_uri": "https://localhost:8080/",
     "height": 573
    },
    "id": "nFqdv_Qsks30",
    "outputId": "4e1d7956-0567-4974-ca86-069250a666f6"
   },
   "outputs": [
    {
     "data": {
      "image/png": "[encoded data removed]",
      "text/plain": [
       "<Figure size 432x288 with 1 Axes>"
      ]
     },
     "metadata": {},
     "output_type": "display_data"
    },
    {
     "data": {
      "image/png": "[encoded data removed]",
      "text/plain": [
       "<Figure size 432x288 with 1 Axes>"
      ]
     },
     "metadata": {},
     "output_type": "display_data"
    }
   ],
   "source": [
    "def plot_loss(history):\n",
    "    train_loss = history.history['loss']\n",
    "    test_loss = history.history['val_loss']\n",
    "    x = list(range(1, len(test_loss) + 1))\n",
    "    plt.plot(x, test_loss, color = 'red', label = 'test loss')\n",
    "    plt.plot(x, train_loss, label = 'traning loss')\n",
    "    plt.xlabel('Epoch')\n",
    "    plt.ylabel('Loss')\n",
    "    plt.title('Loss vs. Epoch')\n",
    "    plt.legend()\n",
    "    plt.show()\n",
    "    \n",
    "def plot_accuracy(history):\n",
    "    train_acc = history.history['accuracy']\n",
    "    test_acc = history.history['val_accuracy']\n",
    "    x = list(range(1, len(test_acc) + 1))\n",
    "    plt.plot(x, test_acc, color = 'red', label = 'test accuracy')\n",
    "    plt.plot(x, train_acc, label = 'training accuracy')  \n",
    "    plt.xlabel('Epoch')\n",
    "    plt.ylabel('Accuracy')\n",
    "    plt.title('Accuracy vs. Epoch')  \n",
    "    plt.legend(loc='lower right')\n",
    "    plt.show()    \n",
    "    \n",
    "plot_loss(history_nn)  \n",
    "plot_accuracy(history_nn)    "
   ]
  },
  {
   "cell_type": "markdown",
   "metadata": {
    "id": "M-qRO3mlks31"
   },
   "source": [
    "> Examine the trajectory of the training and test loss and accuracy. What does the divergence of these losses and accuracies tell you about the learning and generalization of the model?       \n",
    "> **End of exercise.**    "
   ]
  },
  {
   "cell_type": "markdown",
   "metadata": {
    "id": "u8Mamj9mks31"
   },
   "source": [
    "> **Answer:**   \n",
    "The loss in the test data seems to be flat (on average) across the epochs, whereas the training data is clearly declining. However, the accuracy is increasing in the epochs for both the training and the test data. This is interesting and suggests that one of two things is likely true. \n",
    "(1) The loss in the test accuracy may start to trend the same way as the accuracy, and would therefore improve (decrease) with additional epochs. \n",
    "(2) The test accuracy increase in the epochs is spurious and we may just be overfitting the model. \n",
    "\n",
    "It is hard to say definitively which is true without further model evaluation, but given that the test accuracy is already quite high (98%), I think its probably the case that the additional epochs are just overfitting the model. "
   ]
  },
  {
   "cell_type": "markdown",
   "metadata": {
    "id": "2ZCrHELeks31"
   },
   "source": [
    "## 6.0 Adding Regularization        \n",
    "\n",
    "You have seen some of the effects of over-fitting of the neural network model. **Regularization** methods are widely used in machine learning to prevent over-fitting. Conceptually, you can think of regularization as moving the model toward lower variance and higher bias to improve generalization. We will examine regularization in greater detail in another lesson.      \n",
    "\n",
    "Keras used the [layer weight regularizer class](https://keras.io/api/layers/regularizers/) to add weight constraints to the to layers. Here, we will only used the L2 regularizer."
   ]
  },
  {
   "cell_type": "markdown",
   "metadata": {
    "id": "APNz9j_qks31"
   },
   "source": [
    "> **Exercise 5-7:** You will now add L2 regularization to the dense input and hidden layers of your model. Do the following:    \n",
    "> 1. Starting with the model specification you have been using, add the following argument to the input and hidden layer; `kernel_regularizer=regularizers.l2(0.1)`.    \n",
    "> 2. Compile the model.   \n",
    "> 3. Fit the model for 80 epochs, saving the history object. This will take some time!   \n",
    "> 4. Plot the training and test loss and accuracy.  "
   ]
  },
  {
   "cell_type": "code",
   "execution_count": 35,
   "metadata": {
    "colab": {
     "base_uri": "https://localhost:8080/",
     "height": 1000
    },
    "id": "eGKoE-4fks32",
    "outputId": "ceefac15-a98c-4e03-a18a-2ca08725055b",
    "scrolled": false
   },
   "outputs": [
    {
     "name": "stdout",
     "output_type": "stream",
     "text": [
      "Model: \"sequential_2\"\n",
      "_________________________________________________________________\n",
      " Layer (type)                Output Shape              Param #   \n",
      "=================================================================\n",
      " dense_4 (Dense)             (None, 784)               615440    \n",
      "                                                                 \n",
      " dense_5 (Dense)             (None, 512)               401920    \n",
      "                                                                 \n",
      " dense_6 (Dense)             (None, 10)                5130      \n",
      "                                                                 \n",
      "=================================================================\n",
      "Total params: 1,022,490\n",
      "Trainable params: 1,022,490\n",
      "Non-trainable params: 0\n",
      "_________________________________________________________________\n",
      "Epoch 1/80\n",
      "469/469 [==============================] - 15s 31ms/step - loss: 5.3449 - accuracy: 0.7466 - val_loss: 1.1369 - val_accuracy: 0.7858\n",
      "Epoch 2/80\n",
      "469/469 [==============================] - 14s 30ms/step - loss: 0.9832 - accuracy: 0.8408 - val_loss: 0.8688 - val_accuracy: 0.8623\n",
      "Epoch 3/80\n",
      "469/469 [==============================] - 14s 30ms/step - loss: 0.8496 - accuracy: 0.8608 - val_loss: 0.8314 - val_accuracy: 0.8489\n",
      "Epoch 4/80\n",
      "469/469 [==============================] - 14s 30ms/step - loss: 0.7874 - accuracy: 0.8669 - val_loss: 0.7608 - val_accuracy: 0.8719\n",
      "Epoch 5/80\n",
      "469/469 [==============================] - 15s 32ms/step - loss: 0.7438 - accuracy: 0.8742 - val_loss: 0.6819 - val_accuracy: 0.8932\n",
      "Epoch 6/80\n",
      "469/469 [==============================] - 14s 31ms/step - loss: 0.7157 - accuracy: 0.8758 - val_loss: 0.6983 - val_accuracy: 0.8863\n",
      "Epoch 7/80\n",
      "469/469 [==============================] - 15s 31ms/step - loss: 0.6972 - accuracy: 0.8775 - val_loss: 0.6611 - val_accuracy: 0.8839\n",
      "Epoch 8/80\n",
      "469/469 [==============================] - 14s 30ms/step - loss: 0.6808 - accuracy: 0.8789 - val_loss: 0.6212 - val_accuracy: 0.9023\n",
      "Epoch 9/80\n",
      "469/469 [==============================] - 14s 30ms/step - loss: 0.6678 - accuracy: 0.8798 - val_loss: 0.6447 - val_accuracy: 0.8848\n",
      "Epoch 10/80\n",
      "469/469 [==============================] - 15s 31ms/step - loss: 0.6569 - accuracy: 0.8809 - val_loss: 0.7144 - val_accuracy: 0.8487\n",
      "Epoch 11/80\n",
      "469/469 [==============================] - 14s 30ms/step - loss: 0.6473 - accuracy: 0.8826 - val_loss: 0.6271 - val_accuracy: 0.8861\n",
      "Epoch 12/80\n",
      "469/469 [==============================] - 14s 30ms/step - loss: 0.6371 - accuracy: 0.8845 - val_loss: 0.6984 - val_accuracy: 0.8520\n",
      "Epoch 13/80\n",
      "469/469 [==============================] - 15s 31ms/step - loss: 0.6290 - accuracy: 0.8850 - val_loss: 0.5850 - val_accuracy: 0.9020\n",
      "Epoch 14/80\n",
      "469/469 [==============================] - 14s 29ms/step - loss: 0.6219 - accuracy: 0.8867 - val_loss: 0.5822 - val_accuracy: 0.9006\n",
      "Epoch 15/80\n",
      "469/469 [==============================] - 14s 30ms/step - loss: 0.6140 - accuracy: 0.8885 - val_loss: 0.5708 - val_accuracy: 0.9008\n",
      "Epoch 16/80\n",
      "469/469 [==============================] - 14s 30ms/step - loss: 0.6076 - accuracy: 0.8905 - val_loss: 0.6425 - val_accuracy: 0.8674\n",
      "Epoch 17/80\n",
      "469/469 [==============================] - 15s 31ms/step - loss: 0.6060 - accuracy: 0.8900 - val_loss: 0.6143 - val_accuracy: 0.8841\n",
      "Epoch 18/80\n",
      "469/469 [==============================] - 15s 31ms/step - loss: 0.5981 - accuracy: 0.8914 - val_loss: 0.5503 - val_accuracy: 0.9078\n",
      "Epoch 19/80\n",
      "469/469 [==============================] - 15s 32ms/step - loss: 0.5953 - accuracy: 0.8915 - val_loss: 0.5486 - val_accuracy: 0.9108\n",
      "Epoch 20/80\n",
      "469/469 [==============================] - 14s 30ms/step - loss: 0.5883 - accuracy: 0.8917 - val_loss: 0.5688 - val_accuracy: 0.9057\n",
      "Epoch 21/80\n",
      "469/469 [==============================] - 15s 32ms/step - loss: 0.5852 - accuracy: 0.8928 - val_loss: 0.5526 - val_accuracy: 0.9082\n",
      "Epoch 22/80\n",
      "469/469 [==============================] - 14s 30ms/step - loss: 0.5824 - accuracy: 0.8931 - val_loss: 0.5708 - val_accuracy: 0.8954\n",
      "Epoch 23/80\n",
      "469/469 [==============================] - 15s 32ms/step - loss: 0.5755 - accuracy: 0.8947 - val_loss: 0.6008 - val_accuracy: 0.8799\n",
      "Epoch 24/80\n",
      "469/469 [==============================] - 14s 31ms/step - loss: 0.5726 - accuracy: 0.8944 - val_loss: 0.5229 - val_accuracy: 0.9093\n",
      "Epoch 25/80\n",
      "469/469 [==============================] - 14s 30ms/step - loss: 0.5683 - accuracy: 0.8976 - val_loss: 0.5248 - val_accuracy: 0.9163\n",
      "Epoch 26/80\n",
      "469/469 [==============================] - 14s 31ms/step - loss: 0.5658 - accuracy: 0.8954 - val_loss: 0.5257 - val_accuracy: 0.9078\n",
      "Epoch 27/80\n",
      "469/469 [==============================] - 14s 30ms/step - loss: 0.5625 - accuracy: 0.8966 - val_loss: 0.6223 - val_accuracy: 0.8736\n",
      "Epoch 28/80\n",
      "469/469 [==============================] - 14s 31ms/step - loss: 0.5604 - accuracy: 0.8971 - val_loss: 0.5214 - val_accuracy: 0.9082\n",
      "Epoch 29/80\n",
      "469/469 [==============================] - 15s 31ms/step - loss: 0.5563 - accuracy: 0.8975 - val_loss: 0.5247 - val_accuracy: 0.9038\n",
      "Epoch 30/80\n",
      "469/469 [==============================] - 15s 32ms/step - loss: 0.5554 - accuracy: 0.8970 - val_loss: 0.5449 - val_accuracy: 0.8975\n",
      "Epoch 31/80\n",
      "469/469 [==============================] - 14s 30ms/step - loss: 0.5520 - accuracy: 0.8973 - val_loss: 0.5131 - val_accuracy: 0.9086\n",
      "Epoch 32/80\n",
      "469/469 [==============================] - 14s 30ms/step - loss: 0.5511 - accuracy: 0.8973 - val_loss: 0.5591 - val_accuracy: 0.8842\n",
      "Epoch 33/80\n",
      "469/469 [==============================] - 14s 30ms/step - loss: 0.5478 - accuracy: 0.8979 - val_loss: 0.5244 - val_accuracy: 0.9025\n",
      "Epoch 34/80\n",
      "469/469 [==============================] - 14s 30ms/step - loss: 0.5461 - accuracy: 0.8984 - val_loss: 0.5563 - val_accuracy: 0.8873\n",
      "Epoch 35/80\n",
      "469/469 [==============================] - 14s 31ms/step - loss: 0.5427 - accuracy: 0.8975 - val_loss: 0.5837 - val_accuracy: 0.8831\n",
      "Epoch 36/80\n",
      "469/469 [==============================] - 15s 32ms/step - loss: 0.5397 - accuracy: 0.8990 - val_loss: 0.5306 - val_accuracy: 0.8968\n",
      "Epoch 37/80\n",
      "469/469 [==============================] - 14s 30ms/step - loss: 0.5379 - accuracy: 0.8995 - val_loss: 0.5368 - val_accuracy: 0.8970\n",
      "Epoch 38/80\n",
      "469/469 [==============================] - 14s 31ms/step - loss: 0.5361 - accuracy: 0.8992 - val_loss: 0.6026 - val_accuracy: 0.8735\n",
      "Epoch 39/80\n",
      "469/469 [==============================] - 14s 31ms/step - loss: 0.5344 - accuracy: 0.8997 - val_loss: 0.5108 - val_accuracy: 0.9061\n",
      "Epoch 40/80\n",
      "469/469 [==============================] - 14s 31ms/step - loss: 0.5321 - accuracy: 0.9007 - val_loss: 0.5321 - val_accuracy: 0.8967\n",
      "Epoch 41/80\n",
      "469/469 [==============================] - 15s 32ms/step - loss: 0.5310 - accuracy: 0.8989 - val_loss: 0.5223 - val_accuracy: 0.9000\n",
      "Epoch 42/80\n",
      "469/469 [==============================] - 15s 31ms/step - loss: 0.5278 - accuracy: 0.8994 - val_loss: 0.5338 - val_accuracy: 0.9013\n",
      "Epoch 43/80\n",
      "469/469 [==============================] - 14s 30ms/step - loss: 0.5268 - accuracy: 0.9007 - val_loss: 0.5230 - val_accuracy: 0.8999\n",
      "Epoch 44/80\n",
      "469/469 [==============================] - 14s 30ms/step - loss: 0.5242 - accuracy: 0.9009 - val_loss: 0.5115 - val_accuracy: 0.9049\n",
      "Epoch 45/80\n",
      "469/469 [==============================] - 14s 31ms/step - loss: 0.5251 - accuracy: 0.9012 - val_loss: 0.4944 - val_accuracy: 0.9044\n",
      "Epoch 46/80\n",
      "469/469 [==============================] - 14s 30ms/step - loss: 0.5230 - accuracy: 0.9011 - val_loss: 0.4785 - val_accuracy: 0.9144\n",
      "Epoch 47/80\n",
      "469/469 [==============================] - 15s 33ms/step - loss: 0.5230 - accuracy: 0.8991 - val_loss: 0.5482 - val_accuracy: 0.8893\n",
      "Epoch 48/80\n",
      "469/469 [==============================] - 15s 32ms/step - loss: 0.5208 - accuracy: 0.8996 - val_loss: 0.4657 - val_accuracy: 0.9214\n",
      "Epoch 49/80\n",
      "469/469 [==============================] - 14s 31ms/step - loss: 0.5212 - accuracy: 0.8993 - val_loss: 0.4840 - val_accuracy: 0.9165\n",
      "Epoch 50/80\n",
      "469/469 [==============================] - 15s 32ms/step - loss: 0.5177 - accuracy: 0.9016 - val_loss: 0.5445 - val_accuracy: 0.8927\n",
      "Epoch 51/80\n",
      "469/469 [==============================] - 15s 31ms/step - loss: 0.5158 - accuracy: 0.9022 - val_loss: 0.4853 - val_accuracy: 0.9052\n",
      "Epoch 52/80\n",
      "469/469 [==============================] - 14s 31ms/step - loss: 0.5143 - accuracy: 0.8998 - val_loss: 0.4500 - val_accuracy: 0.9234\n",
      "Epoch 53/80\n",
      "469/469 [==============================] - 15s 33ms/step - loss: 0.5148 - accuracy: 0.9010 - val_loss: 0.4796 - val_accuracy: 0.9142\n",
      "Epoch 54/80\n",
      "469/469 [==============================] - 15s 32ms/step - loss: 0.5149 - accuracy: 0.9010 - val_loss: 0.4618 - val_accuracy: 0.9212\n",
      "Epoch 55/80\n",
      "469/469 [==============================] - 14s 31ms/step - loss: 0.5136 - accuracy: 0.9015 - val_loss: 0.5153 - val_accuracy: 0.8989\n",
      "Epoch 56/80\n",
      "469/469 [==============================] - 15s 32ms/step - loss: 0.5138 - accuracy: 0.9016 - val_loss: 0.4551 - val_accuracy: 0.9200\n",
      "Epoch 57/80\n",
      "469/469 [==============================] - 14s 31ms/step - loss: 0.5110 - accuracy: 0.9017 - val_loss: 0.5019 - val_accuracy: 0.9111\n",
      "Epoch 58/80\n",
      "469/469 [==============================] - 15s 32ms/step - loss: 0.5096 - accuracy: 0.9027 - val_loss: 0.4615 - val_accuracy: 0.9191\n",
      "Epoch 59/80\n",
      "469/469 [==============================] - 15s 31ms/step - loss: 0.5093 - accuracy: 0.9025 - val_loss: 0.5097 - val_accuracy: 0.8990\n",
      "Epoch 60/80\n",
      "469/469 [==============================] - 14s 31ms/step - loss: 0.5076 - accuracy: 0.9024 - val_loss: 0.4507 - val_accuracy: 0.9205\n",
      "Epoch 61/80\n",
      "469/469 [==============================] - 15s 31ms/step - loss: 0.5077 - accuracy: 0.9019 - val_loss: 0.4828 - val_accuracy: 0.9110\n",
      "Epoch 62/80\n",
      "469/469 [==============================] - 15s 32ms/step - loss: 0.5070 - accuracy: 0.9020 - val_loss: 0.4621 - val_accuracy: 0.9103\n",
      "Epoch 63/80\n",
      "469/469 [==============================] - 15s 31ms/step - loss: 0.5043 - accuracy: 0.9019 - val_loss: 0.5184 - val_accuracy: 0.9057\n",
      "Epoch 64/80\n",
      "469/469 [==============================] - 16s 34ms/step - loss: 0.5044 - accuracy: 0.9025 - val_loss: 0.4898 - val_accuracy: 0.9048\n",
      "Epoch 65/80\n",
      "469/469 [==============================] - 15s 31ms/step - loss: 0.5034 - accuracy: 0.9031 - val_loss: 0.4544 - val_accuracy: 0.9166\n",
      "Epoch 66/80\n",
      "469/469 [==============================] - 15s 32ms/step - loss: 0.5042 - accuracy: 0.9026 - val_loss: 0.5117 - val_accuracy: 0.8998\n",
      "Epoch 67/80\n",
      "469/469 [==============================] - 15s 31ms/step - loss: 0.5044 - accuracy: 0.9030 - val_loss: 0.4866 - val_accuracy: 0.9154\n",
      "Epoch 68/80\n",
      "469/469 [==============================] - 15s 31ms/step - loss: 0.5009 - accuracy: 0.9047 - val_loss: 0.5085 - val_accuracy: 0.8980\n",
      "Epoch 69/80\n",
      "469/469 [==============================] - 15s 32ms/step - loss: 0.4979 - accuracy: 0.9040 - val_loss: 0.4651 - val_accuracy: 0.9208\n",
      "Epoch 70/80\n",
      "469/469 [==============================] - 15s 31ms/step - loss: 0.4953 - accuracy: 0.9048 - val_loss: 0.4639 - val_accuracy: 0.9126\n",
      "Epoch 71/80\n",
      "469/469 [==============================] - 15s 31ms/step - loss: 0.4972 - accuracy: 0.9048 - val_loss: 0.4732 - val_accuracy: 0.9127\n",
      "Epoch 72/80\n",
      "469/469 [==============================] - 14s 31ms/step - loss: 0.4944 - accuracy: 0.9059 - val_loss: 0.4875 - val_accuracy: 0.9039\n",
      "Epoch 73/80\n",
      "469/469 [==============================] - 15s 33ms/step - loss: 0.4910 - accuracy: 0.9074 - val_loss: 0.4508 - val_accuracy: 0.9174\n",
      "Epoch 74/80\n",
      "469/469 [==============================] - 16s 33ms/step - loss: 0.4904 - accuracy: 0.9062 - val_loss: 0.5284 - val_accuracy: 0.8985\n",
      "Epoch 75/80\n",
      "469/469 [==============================] - 15s 32ms/step - loss: 0.4909 - accuracy: 0.9064 - val_loss: 0.4818 - val_accuracy: 0.9123\n",
      "Epoch 76/80\n",
      "469/469 [==============================] - 15s 31ms/step - loss: 0.4920 - accuracy: 0.9068 - val_loss: 0.5373 - val_accuracy: 0.8916\n",
      "Epoch 77/80\n",
      "469/469 [==============================] - 15s 31ms/step - loss: 0.4900 - accuracy: 0.9082 - val_loss: 0.4590 - val_accuracy: 0.9142\n",
      "Epoch 78/80\n",
      "469/469 [==============================] - 15s 32ms/step - loss: 0.4897 - accuracy: 0.9071 - val_loss: 0.4430 - val_accuracy: 0.9233\n",
      "Epoch 79/80\n",
      "469/469 [==============================] - 16s 34ms/step - loss: 0.4874 - accuracy: 0.9066 - val_loss: 0.5491 - val_accuracy: 0.8697\n",
      "Epoch 80/80\n",
      "469/469 [==============================] - 14s 31ms/step - loss: 0.4883 - accuracy: 0.9069 - val_loss: 0.4554 - val_accuracy: 0.9159\n"
     ]
    },
    {
     "data": {
      "image/png": "[encoded data removed]",
      "text/plain": [
       "<Figure size 432x288 with 1 Axes>"
      ]
     },
     "metadata": {},
     "output_type": "display_data"
    },
    {
     "data": {
      "image/png": "[encoded data removed]",
      "text/plain": [
       "<Figure size 432x288 with 1 Axes>"
      ]
     },
     "metadata": {},
     "output_type": "display_data"
    }
   ],
   "source": [
    "## Your code goes here\n",
    "\n",
    "nn_regularized = models.Sequential()\n",
    "nn_regularized.add(layers.Dense(28*28, input_shape=(28*28, ), activation='relu', kernel_regularizer=regularizers.l2(0.1)))\n",
    "nn_regularized.add(layers.Dense(512, activation='relu', kernel_regularizer=regularizers.l2(0.1)))\n",
    "nn_regularized.add(layers.Dense(10, activation='softmax'))\n",
    "\n",
    "\n",
    "nn_regularized.compile(optimizer=\"rmsprop\", loss='categorical_crossentropy', metrics=['accuracy'])\n",
    "nn.summary()\n",
    "\n",
    "nn_regularized_hist = nn_regularized.fit(train_images, train_labels, epochs=80, batch_size=128, validation_data=(test_images, test_labels))\n",
    "\n",
    "def plot_loss(history):\n",
    "    train_loss = history.history['loss']\n",
    "    test_loss = history.history['val_loss']\n",
    "    x = list(range(1, len(test_loss) + 1))\n",
    "    plt.plot(x, test_loss, color = 'red', label = 'test loss')\n",
    "    plt.plot(x, train_loss, label = 'traning loss')\n",
    "    plt.xlabel('Epoch')\n",
    "    plt.ylabel('Loss')\n",
    "    plt.title('Loss vs. Epoch')\n",
    "    plt.legend()\n",
    "    plt.show()\n",
    "     \n",
    "def plot_accuracy(history):\n",
    "    train_acc = history.history['accuracy']\n",
    "    test_acc = history.history['val_accuracy']\n",
    "    x = list(range(1, len(test_acc) + 1))\n",
    "    plt.plot(x, test_acc, color = 'red', label = 'test accuracy')\n",
    "    plt.plot(x, train_acc, label = 'training accuracy')  \n",
    "    plt.xlabel('Epoch')\n",
    "    plt.ylabel('Accuracy')\n",
    "    plt.title('Accuracy vs. Epoch')  \n",
    "    plt.legend(loc='lower right')\n",
    "    plt.show()    \n",
    "    \n",
    "plot_loss(nn_regularized_hist)  \n",
    "plot_accuracy(nn_regularized_hist)    "
   ]
  },
  {
   "cell_type": "markdown",
   "metadata": {
    "id": "Hp5rYYExks32"
   },
   "source": [
    "> Compare the charts of loss and accuracy for the regularized model with those from training the unregularized model and answer these questions:    \n",
    "> 1. Do the charts and numeric metrics for the regularized model show an improvement in the generalization of the model compared to the unregularized model, and why?      \n",
    "> 2. Notice that the test and training loss of the regularized model continue to improve. Do you think that training for additional epochs will be beneficial? \n",
    "> **End of exercise.**           "
   ]
  },
  {
   "cell_type": "markdown",
   "metadata": {
    "id": "kh45cRc-ks32"
   },
   "source": [
    "> **Answers:**    \n",
    "> 1.     It appears that the test and train accuracy are more in-line with each other in the regularized model, evidenced by the fact that the test accuracy/loss seems to be vary \"randomly\" around the training accuracy/loss. This tells me that the model will be more generalizable. \n",
    "> 2.     It looks like the loss and accuracy measures have plateaued, so it is unlikely that additional epochs will be beneficial. "
   ]
  },
  {
   "cell_type": "markdown",
   "metadata": {
    "id": "HLgQDnmlks33"
   },
   "source": [
    "> **Exercise 5-8:** The path of the test loss and particularly the test accuracy of thje foregoing model is rather erratic. Such behavior often indicates that the gradient is diffcult to estimate and therefore the optimizer exhibits poor convergence. Batch normalizaiton is known to smooth the loss function which improves the ability to consistently estimate gradient. You will now add a **[BatchNormalization layer](https://keras.io/api/layers/normalization_layers/batch_normalization/)** to the model, along with L2 regularization. Do the following:    \n",
    "> 1. Start with the model specification you used for Exercise 5-7, change the model name to `nnbr`. \n",
    "> 2. After each of the two 512 unit hidden dense layers add a `BatchNormalization` layer, using the argument `momentum=0.998`.\n",
    "> 3. To limit the total bias in the model, change the l2 regularization hyperparameter argument for the dense layers to `0.05`.   \n",
    "> 4. Compile the model.   \n",
    "> 5. Fit the model for 80 epochs, saving the history object. This will take some time!   \n",
    "> 6. Plot the training and test loss and accuracy.  "
   ]
  },
  {
   "cell_type": "code",
   "execution_count": 39,
   "metadata": {
    "colab": {
     "base_uri": "https://localhost:8080/",
     "height": 1000
    },
    "id": "uLlznEM6ks33",
    "outputId": "f6473800-2239-47e8-d224-6aefcdd3e972"
   },
   "outputs": [
    {
     "name": "stdout",
     "output_type": "stream",
     "text": [
      "Model: \"sequential_2\"\n",
      "_________________________________________________________________\n",
      " Layer (type)                Output Shape              Param #   \n",
      "=================================================================\n",
      " dense_4 (Dense)             (None, 784)               615440    \n",
      "                                                                 \n",
      " dense_5 (Dense)             (None, 512)               401920    \n",
      "                                                                 \n",
      " dense_6 (Dense)             (None, 10)                5130      \n",
      "                                                                 \n",
      "=================================================================\n",
      "Total params: 1,022,490\n",
      "Trainable params: 1,022,490\n",
      "Non-trainable params: 0\n",
      "_________________________________________________________________\n",
      "Epoch 1/80\n",
      "469/469 [==============================] - 18s 38ms/step - loss: 0.4849 - accuracy: 0.9076 - val_loss: 0.4349 - val_accuracy: 0.9224\n",
      "Epoch 2/80\n",
      "469/469 [==============================] - 19s 41ms/step - loss: 0.4874 - accuracy: 0.9075 - val_loss: 0.4290 - val_accuracy: 0.9263\n",
      "Epoch 3/80\n",
      "469/469 [==============================] - 17s 36ms/step - loss: 0.4851 - accuracy: 0.9074 - val_loss: 0.4339 - val_accuracy: 0.9314\n",
      "Epoch 4/80\n",
      "469/469 [==============================] - 19s 41ms/step - loss: 0.4811 - accuracy: 0.9083 - val_loss: 0.4560 - val_accuracy: 0.9147\n",
      "Epoch 5/80\n",
      "469/469 [==============================] - 16s 35ms/step - loss: 0.4860 - accuracy: 0.9069 - val_loss: 0.4865 - val_accuracy: 0.9097\n",
      "Epoch 6/80\n",
      "469/469 [==============================] - 15s 32ms/step - loss: 0.4855 - accuracy: 0.9077 - val_loss: 0.5689 - val_accuracy: 0.8776\n",
      "Epoch 7/80\n",
      "469/469 [==============================] - 16s 34ms/step - loss: 0.4835 - accuracy: 0.9066 - val_loss: 0.4970 - val_accuracy: 0.8927\n",
      "Epoch 8/80\n",
      "469/469 [==============================] - 16s 33ms/step - loss: 0.4797 - accuracy: 0.9085 - val_loss: 0.4591 - val_accuracy: 0.9177\n",
      "Epoch 9/80\n",
      "469/469 [==============================] - 15s 32ms/step - loss: 0.4805 - accuracy: 0.9081 - val_loss: 0.4428 - val_accuracy: 0.9141\n",
      "Epoch 10/80\n",
      "469/469 [==============================] - 15s 31ms/step - loss: 0.4825 - accuracy: 0.9072 - val_loss: 0.4566 - val_accuracy: 0.9161\n",
      "Epoch 11/80\n",
      "469/469 [==============================] - 15s 31ms/step - loss: 0.4800 - accuracy: 0.9081 - val_loss: 0.4260 - val_accuracy: 0.9206\n",
      "Epoch 12/80\n",
      "469/469 [==============================] - 14s 30ms/step - loss: 0.4801 - accuracy: 0.9082 - val_loss: 0.4476 - val_accuracy: 0.9152\n",
      "Epoch 13/80\n",
      "469/469 [==============================] - 14s 30ms/step - loss: 0.4815 - accuracy: 0.9060 - val_loss: 0.4411 - val_accuracy: 0.9201\n",
      "Epoch 14/80\n",
      "469/469 [==============================] - 15s 32ms/step - loss: 0.4763 - accuracy: 0.9076 - val_loss: 0.4837 - val_accuracy: 0.9020\n",
      "Epoch 15/80\n",
      "469/469 [==============================] - 14s 30ms/step - loss: 0.4800 - accuracy: 0.9077 - val_loss: 0.4126 - val_accuracy: 0.9309\n",
      "Epoch 16/80\n",
      "469/469 [==============================] - 15s 33ms/step - loss: 0.4748 - accuracy: 0.9085 - val_loss: 0.4094 - val_accuracy: 0.9275\n",
      "Epoch 17/80\n",
      "469/469 [==============================] - 14s 30ms/step - loss: 0.4763 - accuracy: 0.9082 - val_loss: 0.5234 - val_accuracy: 0.8863\n",
      "Epoch 18/80\n",
      "469/469 [==============================] - 14s 30ms/step - loss: 0.4747 - accuracy: 0.9082 - val_loss: 0.5162 - val_accuracy: 0.8901\n",
      "Epoch 19/80\n",
      "469/469 [==============================] - 18s 39ms/step - loss: 0.4728 - accuracy: 0.9083 - val_loss: 0.4917 - val_accuracy: 0.8981\n",
      "Epoch 20/80\n",
      "469/469 [==============================] - 15s 32ms/step - loss: 0.4745 - accuracy: 0.9071 - val_loss: 0.4611 - val_accuracy: 0.9102\n",
      "Epoch 21/80\n",
      "469/469 [==============================] - 14s 30ms/step - loss: 0.4699 - accuracy: 0.9091 - val_loss: 0.5673 - val_accuracy: 0.8733\n",
      "Epoch 22/80\n",
      "469/469 [==============================] - 14s 30ms/step - loss: 0.4721 - accuracy: 0.9090 - val_loss: 0.4562 - val_accuracy: 0.9144\n",
      "Epoch 23/80\n",
      "469/469 [==============================] - 14s 30ms/step - loss: 0.4706 - accuracy: 0.9097 - val_loss: 0.4153 - val_accuracy: 0.9305\n",
      "Epoch 24/80\n",
      "469/469 [==============================] - 14s 30ms/step - loss: 0.4695 - accuracy: 0.9088 - val_loss: 0.4612 - val_accuracy: 0.9093\n",
      "Epoch 25/80\n",
      "469/469 [==============================] - 14s 30ms/step - loss: 0.4689 - accuracy: 0.9094 - val_loss: 0.4366 - val_accuracy: 0.9156\n",
      "Epoch 26/80\n",
      "469/469 [==============================] - 15s 32ms/step - loss: 0.4689 - accuracy: 0.9104 - val_loss: 0.5280 - val_accuracy: 0.8912\n",
      "Epoch 27/80\n",
      "469/469 [==============================] - 14s 31ms/step - loss: 0.4674 - accuracy: 0.9107 - val_loss: 0.4253 - val_accuracy: 0.9237\n",
      "Epoch 28/80\n",
      "469/469 [==============================] - 14s 31ms/step - loss: 0.4673 - accuracy: 0.9105 - val_loss: 0.4839 - val_accuracy: 0.9034\n",
      "Epoch 29/80\n",
      "469/469 [==============================] - 14s 31ms/step - loss: 0.4666 - accuracy: 0.9098 - val_loss: 0.4166 - val_accuracy: 0.9294\n",
      "Epoch 30/80\n",
      "469/469 [==============================] - 14s 31ms/step - loss: 0.4664 - accuracy: 0.9104 - val_loss: 0.4318 - val_accuracy: 0.9183\n",
      "Epoch 31/80\n",
      "469/469 [==============================] - 15s 33ms/step - loss: 0.4649 - accuracy: 0.9100 - val_loss: 0.5296 - val_accuracy: 0.8878\n",
      "Epoch 32/80\n",
      "469/469 [==============================] - 15s 31ms/step - loss: 0.4655 - accuracy: 0.9102 - val_loss: 0.4377 - val_accuracy: 0.9154\n",
      "Epoch 33/80\n",
      "469/469 [==============================] - 15s 32ms/step - loss: 0.4639 - accuracy: 0.9101 - val_loss: 0.4147 - val_accuracy: 0.9282\n",
      "Epoch 34/80\n",
      "469/469 [==============================] - 14s 30ms/step - loss: 0.4650 - accuracy: 0.9104 - val_loss: 0.5456 - val_accuracy: 0.8821\n",
      "Epoch 35/80\n",
      "469/469 [==============================] - 14s 31ms/step - loss: 0.4642 - accuracy: 0.9100 - val_loss: 0.4089 - val_accuracy: 0.9263\n",
      "Epoch 36/80\n",
      "469/469 [==============================] - 14s 31ms/step - loss: 0.4656 - accuracy: 0.9092 - val_loss: 0.4328 - val_accuracy: 0.9172\n",
      "Epoch 37/80\n",
      "469/469 [==============================] - 15s 32ms/step - loss: 0.4643 - accuracy: 0.9095 - val_loss: 0.4423 - val_accuracy: 0.9204\n",
      "Epoch 38/80\n",
      "469/469 [==============================] - 15s 32ms/step - loss: 0.4634 - accuracy: 0.9113 - val_loss: 0.5936 - val_accuracy: 0.8665\n",
      "Epoch 39/80\n",
      "469/469 [==============================] - 15s 31ms/step - loss: 0.4630 - accuracy: 0.9105 - val_loss: 0.4396 - val_accuracy: 0.9175\n",
      "Epoch 40/80\n",
      "469/469 [==============================] - 17s 36ms/step - loss: 0.4636 - accuracy: 0.9092 - val_loss: 0.4992 - val_accuracy: 0.8923\n",
      "Epoch 41/80\n",
      "469/469 [==============================] - 18s 38ms/step - loss: 0.4595 - accuracy: 0.9103 - val_loss: 0.4955 - val_accuracy: 0.8951\n",
      "Epoch 42/80\n",
      "469/469 [==============================] - 14s 31ms/step - loss: 0.4607 - accuracy: 0.9105 - val_loss: 0.4405 - val_accuracy: 0.9168\n",
      "Epoch 43/80\n",
      "469/469 [==============================] - 14s 31ms/step - loss: 0.4605 - accuracy: 0.9118 - val_loss: 0.4072 - val_accuracy: 0.9291\n",
      "Epoch 44/80\n",
      "469/469 [==============================] - 15s 31ms/step - loss: 0.4619 - accuracy: 0.9107 - val_loss: 0.4447 - val_accuracy: 0.9109\n",
      "Epoch 45/80\n",
      "469/469 [==============================] - 15s 31ms/step - loss: 0.4614 - accuracy: 0.9103 - val_loss: 0.4404 - val_accuracy: 0.9161\n",
      "Epoch 46/80\n",
      "469/469 [==============================] - 15s 33ms/step - loss: 0.4620 - accuracy: 0.9099 - val_loss: 0.4326 - val_accuracy: 0.9194\n",
      "Epoch 47/80\n",
      "469/469 [==============================] - 16s 34ms/step - loss: 0.4581 - accuracy: 0.9124 - val_loss: 0.4816 - val_accuracy: 0.9048\n",
      "Epoch 48/80\n",
      "469/469 [==============================] - 15s 31ms/step - loss: 0.4595 - accuracy: 0.9106 - val_loss: 0.4146 - val_accuracy: 0.9227\n",
      "Epoch 49/80\n",
      "469/469 [==============================] - 15s 31ms/step - loss: 0.4595 - accuracy: 0.9101 - val_loss: 0.4372 - val_accuracy: 0.9159\n",
      "Epoch 50/80\n",
      "469/469 [==============================] - 15s 33ms/step - loss: 0.4586 - accuracy: 0.9104 - val_loss: 0.4370 - val_accuracy: 0.9165\n",
      "Epoch 51/80\n",
      "469/469 [==============================] - 15s 33ms/step - loss: 0.4575 - accuracy: 0.9103 - val_loss: 0.4861 - val_accuracy: 0.8980\n",
      "Epoch 52/80\n",
      "469/469 [==============================] - 15s 31ms/step - loss: 0.4583 - accuracy: 0.9102 - val_loss: 0.4679 - val_accuracy: 0.9058\n",
      "Epoch 53/80\n",
      "469/469 [==============================] - 15s 31ms/step - loss: 0.4572 - accuracy: 0.9099 - val_loss: 0.4632 - val_accuracy: 0.9066\n",
      "Epoch 54/80\n",
      "469/469 [==============================] - 15s 32ms/step - loss: 0.4575 - accuracy: 0.9111 - val_loss: 0.4237 - val_accuracy: 0.9221\n",
      "Epoch 55/80\n",
      "469/469 [==============================] - 15s 33ms/step - loss: 0.4573 - accuracy: 0.9110 - val_loss: 0.5026 - val_accuracy: 0.8891\n",
      "Epoch 56/80\n",
      "469/469 [==============================] - 15s 32ms/step - loss: 0.4564 - accuracy: 0.9110 - val_loss: 0.4674 - val_accuracy: 0.9075\n",
      "Epoch 57/80\n",
      "469/469 [==============================] - 15s 33ms/step - loss: 0.4561 - accuracy: 0.9107 - val_loss: 0.5260 - val_accuracy: 0.8771\n",
      "Epoch 58/80\n",
      "469/469 [==============================] - 15s 31ms/step - loss: 0.4558 - accuracy: 0.9116 - val_loss: 0.4809 - val_accuracy: 0.9032\n",
      "Epoch 59/80\n",
      "469/469 [==============================] - 15s 31ms/step - loss: 0.4563 - accuracy: 0.9093 - val_loss: 0.4157 - val_accuracy: 0.9245\n",
      "Epoch 60/80\n",
      "469/469 [==============================] - 14s 31ms/step - loss: 0.4524 - accuracy: 0.9119 - val_loss: 0.4563 - val_accuracy: 0.9091\n",
      "Epoch 61/80\n",
      "469/469 [==============================] - 16s 35ms/step - loss: 0.4537 - accuracy: 0.9116 - val_loss: 0.4010 - val_accuracy: 0.9276\n",
      "Epoch 62/80\n",
      "469/469 [==============================] - 15s 32ms/step - loss: 0.4540 - accuracy: 0.9117 - val_loss: 0.4788 - val_accuracy: 0.9085\n",
      "Epoch 63/80\n",
      "469/469 [==============================] - 15s 32ms/step - loss: 0.4540 - accuracy: 0.9110 - val_loss: 0.4866 - val_accuracy: 0.8994\n",
      "Epoch 64/80\n",
      "469/469 [==============================] - 15s 31ms/step - loss: 0.4551 - accuracy: 0.9109 - val_loss: 0.5000 - val_accuracy: 0.8878\n",
      "Epoch 65/80\n",
      "469/469 [==============================] - 15s 31ms/step - loss: 0.4528 - accuracy: 0.9119 - val_loss: 0.4183 - val_accuracy: 0.9209\n",
      "Epoch 66/80\n",
      "469/469 [==============================] - 14s 31ms/step - loss: 0.4508 - accuracy: 0.9115 - val_loss: 0.3873 - val_accuracy: 0.9331\n",
      "Epoch 67/80\n",
      "469/469 [==============================] - 14s 31ms/step - loss: 0.4516 - accuracy: 0.9111 - val_loss: 0.4965 - val_accuracy: 0.8869\n",
      "Epoch 68/80\n",
      "469/469 [==============================] - 15s 32ms/step - loss: 0.4506 - accuracy: 0.9123 - val_loss: 0.4296 - val_accuracy: 0.9230\n",
      "Epoch 69/80\n",
      "469/469 [==============================] - 15s 32ms/step - loss: 0.4522 - accuracy: 0.9108 - val_loss: 0.4373 - val_accuracy: 0.9161\n",
      "Epoch 70/80\n",
      "469/469 [==============================] - 14s 31ms/step - loss: 0.4522 - accuracy: 0.9116 - val_loss: 0.4006 - val_accuracy: 0.9301\n",
      "Epoch 71/80\n",
      "469/469 [==============================] - 15s 31ms/step - loss: 0.4486 - accuracy: 0.9118 - val_loss: 0.4028 - val_accuracy: 0.9241\n",
      "Epoch 72/80\n",
      "469/469 [==============================] - 15s 33ms/step - loss: 0.4523 - accuracy: 0.9112 - val_loss: 0.4101 - val_accuracy: 0.9197\n",
      "Epoch 73/80\n",
      "469/469 [==============================] - 15s 33ms/step - loss: 0.4526 - accuracy: 0.9109 - val_loss: 0.4187 - val_accuracy: 0.9207\n",
      "Epoch 74/80\n",
      "469/469 [==============================] - 15s 32ms/step - loss: 0.4506 - accuracy: 0.9126 - val_loss: 0.5507 - val_accuracy: 0.8776\n",
      "Epoch 75/80\n",
      "469/469 [==============================] - 14s 31ms/step - loss: 0.4493 - accuracy: 0.9114 - val_loss: 0.4702 - val_accuracy: 0.9022\n",
      "Epoch 76/80\n",
      "469/469 [==============================] - 15s 31ms/step - loss: 0.4498 - accuracy: 0.9112 - val_loss: 0.3939 - val_accuracy: 0.9290\n",
      "Epoch 77/80\n",
      "469/469 [==============================] - 15s 32ms/step - loss: 0.4480 - accuracy: 0.9126 - val_loss: 0.4317 - val_accuracy: 0.9171\n",
      "Epoch 78/80\n",
      "469/469 [==============================] - 14s 31ms/step - loss: 0.4497 - accuracy: 0.9121 - val_loss: 0.4216 - val_accuracy: 0.9199\n",
      "Epoch 79/80\n",
      "469/469 [==============================] - 15s 32ms/step - loss: 0.4481 - accuracy: 0.9115 - val_loss: 0.3920 - val_accuracy: 0.9294\n",
      "Epoch 80/80\n",
      "469/469 [==============================] - 15s 32ms/step - loss: 0.4495 - accuracy: 0.9112 - val_loss: 0.5310 - val_accuracy: 0.8828\n"
     ]
    },
    {
     "data": {
      "image/png": "[encoded data removed]",
      "text/plain": [
       "<Figure size 432x288 with 1 Axes>"
      ]
     },
     "metadata": {},
     "output_type": "display_data"
    },
    {
     "data": {
      "image/png": "[encoded data removed]",
      "text/plain": [
       "<Figure size 432x288 with 1 Axes>"
      ]
     },
     "metadata": {},
     "output_type": "display_data"
    }
   ],
   "source": [
    "## Your code goes here\n",
    "\n",
    "## Your code goes here\n",
    "\n",
    "nbbr = models.Sequential()\n",
    "nbbr.add(layers.Dense(28*28, input_shape=(28*28, ), activation='relu', kernel_regularizer=regularizers.l2(0.05)))\n",
    "nbbr.add(layers.BatchNormalization(momentum=0.998))\n",
    "nbbr.add(layers.Dense(512, activation='relu', kernel_regularizer=regularizers.l2(0.05)))\n",
    "nbbr.add(layers.BatchNormalization(momentum=0.998))\n",
    "nbbr.add(layers.Dense(10, activation='softmax'))\n",
    "\n",
    "\n",
    "nbbr.compile(optimizer=\"rmsprop\", loss='categorical_crossentropy', metrics=['accuracy'])\n",
    "nn.summary()\n",
    "\n",
    "nbbr_hist = nn_regularized.fit(train_images, train_labels, epochs=80, batch_size=128, validation_data=(test_images, test_labels))\n",
    "\n",
    "def plot_loss(history):\n",
    "    train_loss = history.history['loss']\n",
    "    test_loss = history.history['val_loss']\n",
    "    x = list(range(1, len(test_loss) + 1))\n",
    "    plt.plot(x, test_loss, color = 'red', label = 'test loss')\n",
    "    plt.plot(x, train_loss, label = 'traning loss')\n",
    "    plt.xlabel('Epoch')\n",
    "    plt.ylabel('Loss')\n",
    "    plt.title('Loss vs. Epoch')\n",
    "    plt.legend()\n",
    "    plt.show()\n",
    "    \n",
    "def plot_accuracy(history):\n",
    "    train_acc = history.history['accuracy']\n",
    "    test_acc = history.history['val_accuracy']\n",
    "    x = list(range(1, len(test_acc) + 1))\n",
    "    plt.plot(x, test_acc, color = 'red', label = 'test accuracy')\n",
    "    plt.plot(x, train_acc, label = 'training accuracy')  \n",
    "    plt.xlabel('Epoch')\n",
    "    plt.ylabel('Accuracy')\n",
    "    plt.title('Accuracy vs. Epoch')  \n",
    "    plt.legend(loc='lower right')\n",
    "    plt.show()    \n",
    "    \n",
    "plot_loss(nbbr_hist)  \n",
    "plot_accuracy(nbbr_hist)    \n"
   ]
  },
  {
   "cell_type": "markdown",
   "metadata": {
    "id": "l-jXIQ1Fks33"
   },
   "source": [
    "> Compare the graphs to the train and test loss and train and test accuracy to the foregoing model without the batch normalization. What does the difference in smoothness, especially for the test accruacy, tell you about the change in behavior of the gradient?   "
   ]
  },
  {
   "cell_type": "markdown",
   "metadata": {
    "id": "p83uoZk8ks34"
   },
   "source": [
    "> **Answer:**       \n",
    "Both the test accuracy and the test loss are significantly MORE erratic and less smooth. This is telling me that adding the batch normalization has managed to make the gradient more erratic and means that the optimizer is having an even harder time converging."
   ]
  },
  {
   "cell_type": "markdown",
   "metadata": {
    "id": "Pc6vVsJ9ks34"
   },
   "source": [
    "##### Copyright 2018, 2019, 2020, 2021, 2022, 2023, Stephen F Elston. All rights reserved"
   ]
  },
  {
   "cell_type": "code",
   "execution_count": null,
   "metadata": {
    "id": "uzWVvOIqks34"
   },
   "outputs": [],
   "source": []
  }
 ],
 "metadata": {
  "anaconda-cloud": {},
  "colab": {
   "provenance": []
  },
  "kernelspec": {
   "display_name": "Python 3 (ipykernel)",
   "language": "python",
   "name": "python3"
  },
  "language_info": {
   "codemirror_mode": {
    "name": "ipython",
    "version": 3
   },
   "file_extension": ".py",
   "mimetype": "text/x-python",
   "name": "python",
   "nbconvert_exporter": "python",
   "pygments_lexer": "ipython3",
   "version": "3.9.12"
  },
  "vscode": {
   "interpreter": {
    "hash": "28dd7088c17187b2a82b0cc145a6924d7dc10b241d66d6e4871a0d3823622b0f"
   }
  }
 },
 "nbformat": 4,
 "nbformat_minor": 1
}
