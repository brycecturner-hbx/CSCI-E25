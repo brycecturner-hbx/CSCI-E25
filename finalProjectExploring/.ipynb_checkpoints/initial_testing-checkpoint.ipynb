{
 "cells": [
  {
   "cell_type": "code",
   "execution_count": 10,
   "id": "244ec20e",
   "metadata": {},
   "outputs": [],
   "source": [
    "from skimage import io\n",
    "\n",
    "import skimage \n",
    "from skimage import data\n",
    "from skimage.filters.rank import equalize, threshold"
   ]
  },
  {
   "cell_type": "code",
   "execution_count": 6,
   "id": "2db7dade",
   "metadata": {},
   "outputs": [],
   "source": [
    "img_path=\"D:\\\\Projects\\\\xView3\\\\aria2-1.36.0-win-64bit-build1\\\\2899cfb18883251bt\\\\bathymetry.tif\""
   ]
  },
  {
   "cell_type": "code",
   "execution_count": 12,
   "id": "5d8f0971",
   "metadata": {},
   "outputs": [],
   "source": [
    "imstack1 = io.imread(img_path, plugin=\"tifffile\")"
   ]
  },
  {
   "cell_type": "code",
   "execution_count": 14,
   "id": "6d723892",
   "metadata": {},
   "outputs": [
    {
     "data": {
      "text/plain": [
       "(430, 589)"
      ]
     },
     "execution_count": 14,
     "metadata": {},
     "output_type": "execute_result"
    }
   ],
   "source": [
    "imstack1.shape"
   ]
  },
  {
   "cell_type": "code",
   "execution_count": null,
   "id": "378e7466",
   "metadata": {},
   "outputs": [],
   "source": []
  }
 ],
 "metadata": {
  "kernelspec": {
   "display_name": "Python 3 (ipykernel)",
   "language": "python",
   "name": "python3"
  },
  "language_info": {
   "codemirror_mode": {
    "name": "ipython",
    "version": 3
   },
   "file_extension": ".py",
   "mimetype": "text/x-python",
   "name": "python",
   "nbconvert_exporter": "python",
   "pygments_lexer": "ipython3",
   "version": "3.9.13"
  }
 },
 "nbformat": 4,
 "nbformat_minor": 5
}
