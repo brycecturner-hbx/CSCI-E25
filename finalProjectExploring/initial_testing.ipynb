{
 "cells": [
  {
   "cell_type": "code",
   "execution_count": 10,
   "id": "186098ca",
   "metadata": {},
   "outputs": [],
   "source": [
    "from skimage import io\n",
    "\n",
    "import skimage \n",
    "from skimage import data\n",
    "from skimage.filters.rank import equalize, threshold"
   ]
  },
  {
   "cell_type": "code",
   "execution_count": 16,
   "id": "9fd96d45",
   "metadata": {},
   "outputs": [],
   "source": [
    "img_path=\"D:\\Projects\\MASATI-v2\\coast\\c0001.png\""
   ]
  },
  {
   "cell_type": "code",
   "execution_count": 19,
   "id": "4b2bf5d6",
   "metadata": {},
   "outputs": [],
   "source": [
    "imstack1 = io.imread(img_path)"
   ]
  },
  {
   "cell_type": "code",
   "execution_count": 21,
   "id": "e5df67f9",
   "metadata": {},
   "outputs": [
    {
     "data": {
      "text/plain": [
       "(512, 512, 3)"
      ]
     },
     "execution_count": 21,
     "metadata": {},
     "output_type": "execute_result"
    }
   ],
   "source": [
    "imstack1.shape"
   ]
  },
  {
   "cell_type": "code",
   "execution_count": null,
   "id": "90cb67e9",
   "metadata": {},
   "outputs": [],
   "source": []
  }
 ],
 "metadata": {
  "kernelspec": {
   "display_name": "Python 3 (ipykernel)",
   "language": "python",
   "name": "python3"
  },
  "language_info": {
   "codemirror_mode": {
    "name": "ipython",
    "version": 3
   },
   "file_extension": ".py",
   "mimetype": "text/x-python",
   "name": "python",
   "nbconvert_exporter": "python",
   "pygments_lexer": "ipython3",
   "version": "3.9.13"
  }
 },
 "nbformat": 4,
 "nbformat_minor": 5
}
